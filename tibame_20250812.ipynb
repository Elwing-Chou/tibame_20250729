{
  "nbformat": 4,
  "nbformat_minor": 0,
  "metadata": {
    "colab": {
      "provenance": [],
      "authorship_tag": "ABX9TyPRDdIZiyKM/+MWdw/8voyO",
      "include_colab_link": true
    },
    "kernelspec": {
      "name": "python3",
      "display_name": "Python 3"
    },
    "language_info": {
      "name": "python"
    }
  },
  "cells": [
    {
      "cell_type": "markdown",
      "metadata": {
        "id": "view-in-github",
        "colab_type": "text"
      },
      "source": [
        "<a href=\"https://colab.research.google.com/github/Elwing-Chou/tibame_20250729/blob/main/tibame_20250812.ipynb\" target=\"_parent\"><img src=\"https://colab.research.google.com/assets/colab-badge.svg\" alt=\"Open In Colab\"/></a>"
      ]
    },
    {
      "cell_type": "code",
      "execution_count": 4,
      "metadata": {
        "colab": {
          "base_uri": "https://localhost:8080/"
        },
        "id": "hsl8LxQd8XCJ",
        "outputId": "6cdb80aa-77c2-4309-b10e-863644f74972"
      },
      "outputs": [
        {
          "output_type": "stream",
          "name": "stdout",
          "text": [
            "潤\n"
          ]
        }
      ],
      "source": [
        "# 999: 不是\n",
        "# 888: 是(4)\n",
        "# 1800: 不是(4, 100)\n",
        "# 2000: 是(4, 100, 400)\n",
        "year = 2000\n",
        "if year % 4 == 0:\n",
        "    if year % 100 == 0:\n",
        "        if year % 400 == 0:\n",
        "            print(\"潤\")\n",
        "        else:\n",
        "            print(\"平\")\n",
        "    else:\n",
        "        print(\"潤\")\n",
        "else:\n",
        "    print(\"平\")"
      ]
    },
    {
      "cell_type": "code",
      "source": [
        "year = 999\n",
        "if year % 400 == 0:\n",
        "    print(\"閏\")\n",
        "elif year % 100 == 0:\n",
        "    print(\"平\")\n",
        "elif year % 4 == 0:\n",
        "    print(\"潤\")\n",
        "else:\n",
        "    print(\"平\")"
      ],
      "metadata": {
        "colab": {
          "base_uri": "https://localhost:8080/"
        },
        "id": "E9nCoUatEEW3",
        "outputId": "9e89efdb-538e-4bdd-dcbc-b449a42c0ba5"
      },
      "execution_count": 8,
      "outputs": [
        {
          "output_type": "stream",
          "name": "stdout",
          "text": [
            "平\n"
          ]
        }
      ]
    },
    {
      "cell_type": "code",
      "source": [
        "base_year = 2000\n",
        "add_year = 1000\n",
        "# 幫我數這1000年有幾個是閏年\n",
        "count = 0\n",
        "i = 0\n",
        "while i < add_year:\n",
        "    year = base_year + i\n",
        "    if year % 400 == 0:\n",
        "        count = count + 1\n",
        "    elif year % 100 == 0:\n",
        "        pass\n",
        "    elif year % 4 == 0:\n",
        "        count = count + 1\n",
        "    else:\n",
        "        pass\n",
        "    i = i + 1\n",
        "print(count)"
      ],
      "metadata": {
        "colab": {
          "base_uri": "https://localhost:8080/"
        },
        "id": "hZiTNHoCGVqF",
        "outputId": "fd633ecd-72ce-4de8-8de9-413b75922f24"
      },
      "execution_count": 11,
      "outputs": [
        {
          "output_type": "stream",
          "name": "stdout",
          "text": [
            "243\n"
          ]
        }
      ]
    },
    {
      "cell_type": "markdown",
      "source": [
        "\n",
        "\n",
        "```\n",
        "是否型態(布林型態) boolean:\n",
        "True  False\n",
        "```\n",
        "\n",
        "\n"
      ],
      "metadata": {
        "id": "5246PyxmNE47"
      }
    },
    {
      "cell_type": "code",
      "source": [
        "a = 5\n",
        "a < 2"
      ],
      "metadata": {
        "colab": {
          "base_uri": "https://localhost:8080/"
        },
        "id": "gor6heVMNoL3",
        "outputId": "d68a102c-929a-4a04-f154-7dbb05ac0854"
      },
      "execution_count": 13,
      "outputs": [
        {
          "output_type": "execute_result",
          "data": {
            "text/plain": [
              "False"
            ]
          },
          "metadata": {},
          "execution_count": 13
        }
      ]
    },
    {
      "cell_type": "code",
      "source": [
        "base_year = 2000\n",
        "add_year = 1000\n",
        "# 幫我數這1000年有幾個是閏年\n",
        "count = 0\n",
        "i = 0\n",
        "while i < add_year:\n",
        "    year = base_year + i\n",
        "    # 確認閏年\n",
        "    is_leap_year = False\n",
        "    if year % 400 == 0:\n",
        "        is_leap_year = True\n",
        "    elif year % 100 == 0:\n",
        "        pass\n",
        "    elif year % 4 == 0:\n",
        "        is_leap_year = True\n",
        "    else:\n",
        "        pass\n",
        "    # 閏年要做什麼分開\n",
        "    if is_leap_year == True:\n",
        "        # print(year, \"是閏年\")\n",
        "        count = count + 1\n",
        "\n",
        "    i = i + 1\n",
        "print(count)"
      ],
      "metadata": {
        "colab": {
          "base_uri": "https://localhost:8080/"
        },
        "id": "28abpXNRMRtn",
        "outputId": "d2640045-a929-44a3-8a99-c040e7ab3200"
      },
      "execution_count": 16,
      "outputs": [
        {
          "output_type": "stream",
          "name": "stdout",
          "text": [
            "243\n"
          ]
        }
      ]
    },
    {
      "cell_type": "markdown",
      "source": [
        "\n",
        "\n",
        "```\n",
        "Part3. 不固定次數的迴圈\n",
        "\n",
        "不用i, while後面寫入條件\n",
        "\n",
        "布林型態:\n",
        "1. 不: if not a == 3\n",
        "2. 組合: 條件1 and/or  條件2\n",
        "and(而且)和or(或者)是不能用反的, 因為你會用反代表你平常說中文有問題\n",
        "```\n",
        "\n"
      ],
      "metadata": {
        "id": "Yd0a8PduPbsM"
      }
    },
    {
      "cell_type": "code",
      "source": [
        "import random\n",
        "\n",
        "trans = [\"LOSE\", \"EVEN\", \"WIN\"]\n",
        "win, even, lose = 0, 0, 0\n",
        "# 一直完一直完, 直到我贏了三把\n",
        "while (win < 3) and (lose < 3):\n",
        "    # -1: lose 0: even 1: win\n",
        "    result = random.randint(-1, 1)\n",
        "    print(trans[result+1])\n",
        "    if result == -1:\n",
        "        lose = lose + 1\n",
        "    elif result == 0:\n",
        "        even = even + 1\n",
        "    elif result == 1:\n",
        "        win = win + 1\n",
        "\n",
        "print(win, even, lose)\n",
        "if win > lose:\n",
        "    print(\"[TOTAL] WIN\")\n",
        "else:\n",
        "    print(\"[TOTAL] LOSE\")"
      ],
      "metadata": {
        "colab": {
          "base_uri": "https://localhost:8080/"
        },
        "id": "p96FOVnOPvvH",
        "outputId": "62e6e147-e663-42c9-b0ee-2580402b70ee"
      },
      "execution_count": 22,
      "outputs": [
        {
          "output_type": "stream",
          "name": "stdout",
          "text": [
            "LOSE\n",
            "EVEN\n",
            "WIN\n",
            "LOSE\n",
            "EVEN\n",
            "EVEN\n",
            "LOSE\n",
            "1 3 3\n",
            "[TOTAL] LOSE\n"
          ]
        }
      ]
    }
  ]
}