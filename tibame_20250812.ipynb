{
  "nbformat": 4,
  "nbformat_minor": 0,
  "metadata": {
    "colab": {
      "provenance": [],
      "authorship_tag": "ABX9TyN838aTTK6493HVM11P7v5r",
      "include_colab_link": true
    },
    "kernelspec": {
      "name": "python3",
      "display_name": "Python 3"
    },
    "language_info": {
      "name": "python"
    }
  },
  "cells": [
    {
      "cell_type": "markdown",
      "metadata": {
        "id": "view-in-github",
        "colab_type": "text"
      },
      "source": [
        "<a href=\"https://colab.research.google.com/github/Elwing-Chou/tibame_20250729/blob/main/tibame_20250812.ipynb\" target=\"_parent\"><img src=\"https://colab.research.google.com/assets/colab-badge.svg\" alt=\"Open In Colab\"/></a>"
      ]
    },
    {
      "cell_type": "code",
      "execution_count": 4,
      "metadata": {
        "colab": {
          "base_uri": "https://localhost:8080/"
        },
        "id": "hsl8LxQd8XCJ",
        "outputId": "6cdb80aa-77c2-4309-b10e-863644f74972"
      },
      "outputs": [
        {
          "output_type": "stream",
          "name": "stdout",
          "text": [
            "潤\n"
          ]
        }
      ],
      "source": [
        "# 999: 不是\n",
        "# 888: 是(4)\n",
        "# 1800: 不是(4, 100)\n",
        "# 2000: 是(4, 100, 400)\n",
        "year = 2000\n",
        "if year % 4 == 0:\n",
        "    if year % 100 == 0:\n",
        "        if year % 400 == 0:\n",
        "            print(\"潤\")\n",
        "        else:\n",
        "            print(\"平\")\n",
        "    else:\n",
        "        print(\"潤\")\n",
        "else:\n",
        "    print(\"平\")"
      ]
    },
    {
      "cell_type": "code",
      "source": [
        "year = 999\n",
        "if year % 400 == 0:\n",
        "    print(\"閏\")\n",
        "elif year % 100 == 0:\n",
        "    print(\"平\")\n",
        "elif year % 4 == 0:\n",
        "    print(\"潤\")\n",
        "else:\n",
        "    print(\"平\")"
      ],
      "metadata": {
        "colab": {
          "base_uri": "https://localhost:8080/"
        },
        "id": "E9nCoUatEEW3",
        "outputId": "9e89efdb-538e-4bdd-dcbc-b449a42c0ba5"
      },
      "execution_count": 8,
      "outputs": [
        {
          "output_type": "stream",
          "name": "stdout",
          "text": [
            "平\n"
          ]
        }
      ]
    },
    {
      "cell_type": "code",
      "source": [
        "base_year = 2000\n",
        "add_year = 1000\n",
        "# 幫我數這1000年有幾個是閏年\n",
        "count = 0\n",
        "i = 0\n",
        "while i < add_year:\n",
        "    i = i + 1\n",
        "print(count)"
      ],
      "metadata": {
        "id": "hZiTNHoCGVqF"
      },
      "execution_count": null,
      "outputs": []
    }
  ]
}