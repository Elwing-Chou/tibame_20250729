{
  "nbformat": 4,
  "nbformat_minor": 0,
  "metadata": {
    "colab": {
      "provenance": [],
      "authorship_tag": "ABX9TyPdW0nlHaxO+pBqNKWRdROM",
      "include_colab_link": true
    },
    "kernelspec": {
      "name": "python3",
      "display_name": "Python 3"
    },
    "language_info": {
      "name": "python"
    }
  },
  "cells": [
    {
      "cell_type": "markdown",
      "metadata": {
        "id": "view-in-github",
        "colab_type": "text"
      },
      "source": [
        "<a href=\"https://colab.research.google.com/github/Elwing-Chou/tibame_20250729/blob/main/tibame_20250821.ipynb\" target=\"_parent\"><img src=\"https://colab.research.google.com/assets/colab-badge.svg\" alt=\"Open In Colab\"/></a>"
      ]
    },
    {
      "cell_type": "code",
      "execution_count": 8,
      "metadata": {
        "colab": {
          "base_uri": "https://localhost:8080/"
        },
        "id": "-Yu-TkbBRj3P",
        "outputId": "c3ea09ff-abeb-43cd-ebb9-17779b02dc0f"
      },
      "outputs": [
        {
          "output_type": "stream",
          "name": "stdout",
          "text": [
            "20\n",
            "65 20 155\n",
            "4\n",
            "40\n"
          ]
        }
      ],
      "source": [
        "scores = [20, 65, 30, 40]\n",
        "print(scores[0])\n",
        "print(max(scores), min(scores), sum(scores))\n",
        "print(len(scores))\n",
        "\n",
        "# print(scores[len(scores)-1])\n",
        "# 正向編號 0 1 2 3\n",
        "# 反向編號-4-3-2-1\n",
        "print(scores[-1])"
      ]
    }
  ]
}