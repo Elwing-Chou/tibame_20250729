{
  "nbformat": 4,
  "nbformat_minor": 0,
  "metadata": {
    "colab": {
      "provenance": [],
      "authorship_tag": "ABX9TyMBeBHHF3pfR9Mj/DAd8GhQ",
      "include_colab_link": true
    },
    "kernelspec": {
      "name": "python3",
      "display_name": "Python 3"
    },
    "language_info": {
      "name": "python"
    }
  },
  "cells": [
    {
      "cell_type": "markdown",
      "metadata": {
        "id": "view-in-github",
        "colab_type": "text"
      },
      "source": [
        "<a href=\"https://colab.research.google.com/github/Elwing-Chou/tibame_20250729/blob/main/tibame_20250821.ipynb\" target=\"_parent\"><img src=\"https://colab.research.google.com/assets/colab-badge.svg\" alt=\"Open In Colab\"/></a>"
      ]
    },
    {
      "cell_type": "code",
      "execution_count": 8,
      "metadata": {
        "colab": {
          "base_uri": "https://localhost:8080/"
        },
        "id": "-Yu-TkbBRj3P",
        "outputId": "c3ea09ff-abeb-43cd-ebb9-17779b02dc0f"
      },
      "outputs": [
        {
          "output_type": "stream",
          "name": "stdout",
          "text": [
            "20\n",
            "65 20 155\n",
            "4\n",
            "40\n"
          ]
        }
      ],
      "source": [
        "scores = [20, 65, 30, 40]\n",
        "print(scores[0])\n",
        "print(max(scores), min(scores), sum(scores))\n",
        "print(len(scores))\n",
        "\n",
        "# print(scores[len(scores)-1])\n",
        "# 正向編號 0 1 2 3\n",
        "# 反向編號-4-3-2-1\n",
        "print(scores[-1])"
      ]
    },
    {
      "cell_type": "code",
      "source": [
        "scores = [80, 65, 20, 30]\n",
        "count = 0\n",
        "i = 0\n",
        "while i < len(scores):\n",
        "    # !!!! [0 1 2 3] 這個寫法不好的點是\n",
        "    # 以後如果那個群集型態 他的key不是0 1 2 3\n",
        "    s = scores[i]\n",
        "    if s >= 60:\n",
        "        count = count + 1\n",
        "    i = i + 1\n",
        "print(count)"
      ],
      "metadata": {
        "colab": {
          "base_uri": "https://localhost:8080/"
        },
        "id": "uPepFz14TVGO",
        "outputId": "28fbf008-a78a-4666-9307-89bae3c8960e"
      },
      "execution_count": 9,
      "outputs": [
        {
          "output_type": "stream",
          "name": "stdout",
          "text": [
            "2\n"
          ]
        }
      ]
    },
    {
      "cell_type": "code",
      "source": [
        "scores = [80, 65, 20, 30]\n",
        "count = 0\n",
        "# for 名稱 in 群(str/dict/list)\n",
        "for s in scores:\n",
        "    if s >= 60:\n",
        "        count = count + 1\n",
        "print(count)"
      ],
      "metadata": {
        "colab": {
          "base_uri": "https://localhost:8080/"
        },
        "id": "GIQB8eiUVKXR",
        "outputId": "bfd45313-a305-45fe-bf7f-2a65579f85ad"
      },
      "execution_count": 10,
      "outputs": [
        {
          "output_type": "stream",
          "name": "stdout",
          "text": [
            "2\n"
          ]
        }
      ]
    },
    {
      "cell_type": "code",
      "source": [
        "# 1+...+10\n",
        "total = 0\n",
        "# 1. 次數<後面 2. i=0...次-1\n",
        "i = 0\n",
        "while i < 10:\n",
        "    total = total + (i + 1)\n",
        "    print(total)\n",
        "    i = i + 1"
      ],
      "metadata": {
        "id": "pLynr63bWgQI"
      },
      "execution_count": null,
      "outputs": []
    },
    {
      "cell_type": "code",
      "source": [
        "# range(10) -> [0, 1, 2....9]\n",
        "total = 0\n",
        "# 1. 次數range裡面 2. i=0...次-1\n",
        "for i in range(10):\n",
        "    total = total + (i + 1)\n",
        "    print(total)"
      ],
      "metadata": {
        "id": "K77F6CHfXjBi"
      },
      "execution_count": null,
      "outputs": []
    }
  ]
}