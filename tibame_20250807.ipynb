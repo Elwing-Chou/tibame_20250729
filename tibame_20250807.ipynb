{
  "nbformat": 4,
  "nbformat_minor": 0,
  "metadata": {
    "colab": {
      "provenance": [],
      "authorship_tag": "ABX9TyM6ydCTgKmOo7sfWAgbuX6y",
      "include_colab_link": true
    },
    "kernelspec": {
      "name": "python3",
      "display_name": "Python 3"
    },
    "language_info": {
      "name": "python"
    }
  },
  "cells": [
    {
      "cell_type": "markdown",
      "metadata": {
        "id": "view-in-github",
        "colab_type": "text"
      },
      "source": [
        "<a href=\"https://colab.research.google.com/github/Elwing-Chou/tibame_20250729/blob/main/tibame_20250807.ipynb\" target=\"_parent\"><img src=\"https://colab.research.google.com/assets/colab-badge.svg\" alt=\"Open In Colab\"/></a>"
      ]
    },
    {
      "cell_type": "markdown",
      "source": [
        "\n",
        "\n",
        "```\n",
        "迴圈(重複)\n",
        "\n",
        "1. 重複n次的迴圈(0...n-1)\n",
        "a. 初始化數數器: i = 0\n",
        "b. 增加       : i = i + 1\n",
        "c. 條件       : i < 10\n",
        "\n",
        "\n",
        "養成好習慣: 好的寫法就一直寫 永遠不變\n",
        "永遠不變上面三個東西\n",
        "a. 次數: 寫再小於後面\n",
        "b. 0...n-1\n",
        "\n",
        "\n",
        "```\n",
        "\n"
      ],
      "metadata": {
        "id": "6oKScrXPLVVV"
      }
    },
    {
      "cell_type": "code",
      "execution_count": 5,
      "metadata": {
        "colab": {
          "base_uri": "https://localhost:8080/"
        },
        "id": "wRB-FIkOLKmT",
        "outputId": "aa3eb975-cdcc-4166-b36d-bd9aaf593c41"
      },
      "outputs": [
        {
          "output_type": "stream",
          "name": "stdout",
          "text": [
            "0 1 9 1 hello\n",
            "1 2 8 3 hello\n",
            "2 3 7 5 hello\n",
            "3 4 6 7 hello\n",
            "4 5 5 9 hello\n",
            "5 6 4 11 hello\n",
            "6 7 3 13 hello\n",
            "7 8 2 15 hello\n",
            "8 9 1 17 hello\n",
            "9 10 0 19 hello\n"
          ]
        }
      ],
      "source": [
        "i = 0\n",
        "while i < 10:\n",
        "    print(i, i+1, 9-i, 2*i+1, \"hello\")\n",
        "    i = i + 1"
      ]
    },
    {
      "cell_type": "markdown",
      "source": [
        "\n",
        "\n",
        "```\n",
        "o\n",
        "oo\n",
        "ooo\n",
        "oooo\n",
        "\n",
        "```\n",
        "\n"
      ],
      "metadata": {
        "id": "bAk3fysMR7Ar"
      }
    },
    {
      "cell_type": "code",
      "source": [
        "print(\"hi\" * 5)\n",
        "print([2, 3] * 5)"
      ],
      "metadata": {
        "colab": {
          "base_uri": "https://localhost:8080/"
        },
        "id": "N4vbu1XrR6LF",
        "outputId": "e914ef19-4971-4cde-f4c1-9d46bf1d46cd"
      },
      "execution_count": 7,
      "outputs": [
        {
          "output_type": "stream",
          "name": "stdout",
          "text": [
            "hihihihihi\n",
            "[2, 3, 2, 3, 2, 3, 2, 3, 2, 3]\n"
          ]
        }
      ]
    },
    {
      "cell_type": "code",
      "source": [
        "i = 0\n",
        "while i < 10:\n",
        "    print(\"o\" * (i + 1))\n",
        "    i = i + 1"
      ],
      "metadata": {
        "id": "nilsJKK5SdpS"
      },
      "execution_count": null,
      "outputs": []
    },
    {
      "cell_type": "markdown",
      "source": [
        "\n",
        "\n",
        "```\n",
        "oooo\n",
        "_ooo\n",
        "__oo\n",
        "___o\n",
        "\n",
        "```\n",
        "\n"
      ],
      "metadata": {
        "id": "gS4mwLkqS2sA"
      }
    },
    {
      "cell_type": "code",
      "source": [
        "layer = 10\n",
        "i = 0\n",
        "while i < layer:\n",
        "    print(\" \" * i + \"o\" * (layer - i))\n",
        "    i = i + 1"
      ],
      "metadata": {
        "id": "sMnYjnWiS9UK"
      },
      "execution_count": null,
      "outputs": []
    },
    {
      "cell_type": "code",
      "source": [
        "# 把可讀性變高/思考其實四種是同一種\n",
        "left, right = \" \", \"o\"\n",
        "layer = 10\n",
        "i = 0\n",
        "while i < layer:\n",
        "    lcount = i\n",
        "    rcount = layer - i\n",
        "    print(left * lcount + right * rcount)\n",
        "    i = i + 1"
      ],
      "metadata": {
        "id": "k43G-tflX43C"
      },
      "execution_count": null,
      "outputs": []
    },
    {
      "cell_type": "code",
      "source": [
        "# 幫我把上面改成第一行o\n",
        "# 第二航 x"
      ],
      "metadata": {
        "id": "b8jvBKqSZ0O4"
      },
      "execution_count": null,
      "outputs": []
    }
  ]
}