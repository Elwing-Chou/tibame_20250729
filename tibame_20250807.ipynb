{
  "nbformat": 4,
  "nbformat_minor": 0,
  "metadata": {
    "colab": {
      "provenance": [],
      "authorship_tag": "ABX9TyO50EbFS8sIbJk4YU2jVXhm",
      "include_colab_link": true
    },
    "kernelspec": {
      "name": "python3",
      "display_name": "Python 3"
    },
    "language_info": {
      "name": "python"
    }
  },
  "cells": [
    {
      "cell_type": "markdown",
      "metadata": {
        "id": "view-in-github",
        "colab_type": "text"
      },
      "source": [
        "<a href=\"https://colab.research.google.com/github/Elwing-Chou/tibame_20250729/blob/main/tibame_20250807.ipynb\" target=\"_parent\"><img src=\"https://colab.research.google.com/assets/colab-badge.svg\" alt=\"Open In Colab\"/></a>"
      ]
    },
    {
      "cell_type": "markdown",
      "source": [
        "\n",
        "\n",
        "```\n",
        "迴圈(重複)\n",
        "\n",
        "1. 重複n次的迴圈(0...n-1)\n",
        "a. 初始化數數器: i = 0\n",
        "b. 增加       : i = i + 1\n",
        "c. 條件       : i < 10\n",
        "\n",
        "\n",
        "養成好習慣: 好的寫法就一直寫 永遠不變\n",
        "永遠不變上面三個東西\n",
        "a. 次數: 寫再小於後面\n",
        "b. 0...n-1\n",
        "\n",
        "\n",
        "```\n",
        "\n"
      ],
      "metadata": {
        "id": "6oKScrXPLVVV"
      }
    },
    {
      "cell_type": "code",
      "execution_count": 5,
      "metadata": {
        "colab": {
          "base_uri": "https://localhost:8080/"
        },
        "id": "wRB-FIkOLKmT",
        "outputId": "aa3eb975-cdcc-4166-b36d-bd9aaf593c41"
      },
      "outputs": [
        {
          "output_type": "stream",
          "name": "stdout",
          "text": [
            "0 1 9 1 hello\n",
            "1 2 8 3 hello\n",
            "2 3 7 5 hello\n",
            "3 4 6 7 hello\n",
            "4 5 5 9 hello\n",
            "5 6 4 11 hello\n",
            "6 7 3 13 hello\n",
            "7 8 2 15 hello\n",
            "8 9 1 17 hello\n",
            "9 10 0 19 hello\n"
          ]
        }
      ],
      "source": [
        "i = 0\n",
        "while i < 10:\n",
        "    print(i, i+1, 9-i, 2*i+1, \"hello\")\n",
        "    i = i + 1"
      ]
    }
  ]
}