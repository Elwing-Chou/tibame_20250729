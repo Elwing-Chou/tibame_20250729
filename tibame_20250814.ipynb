{
  "nbformat": 4,
  "nbformat_minor": 0,
  "metadata": {
    "colab": {
      "provenance": [],
      "authorship_tag": "ABX9TyMIcWH2aN1gAlNuya8cgNYk",
      "include_colab_link": true
    },
    "kernelspec": {
      "name": "python3",
      "display_name": "Python 3"
    },
    "language_info": {
      "name": "python"
    }
  },
  "cells": [
    {
      "cell_type": "markdown",
      "metadata": {
        "id": "view-in-github",
        "colab_type": "text"
      },
      "source": [
        "<a href=\"https://colab.research.google.com/github/Elwing-Chou/tibame_20250729/blob/main/tibame_20250814.ipynb\" target=\"_parent\"><img src=\"https://colab.research.google.com/assets/colab-badge.svg\" alt=\"Open In Colab\"/></a>"
      ]
    },
    {
      "cell_type": "code",
      "execution_count": null,
      "metadata": {
        "id": "W_K_cwWyOWDF"
      },
      "outputs": [],
      "source": [
        "import random\n",
        "\n",
        "# 4:3 還要繼續\n",
        "# 5:3 a win\n",
        "# 5:4 deuce\n",
        "# 7:6 deuce\n",
        "# 7:5 a win\n",
        "score_to_win = 5\n",
        "win_a, win_b = 0, 0\n",
        "while True:\n",
        "    # 0: player A win\n",
        "    # 1: player B win\n",
        "    result = random.randint(0, 1)\n"
      ]
    }
  ]
}