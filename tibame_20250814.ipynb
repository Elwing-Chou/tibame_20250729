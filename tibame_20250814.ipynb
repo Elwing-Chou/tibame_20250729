{
  "nbformat": 4,
  "nbformat_minor": 0,
  "metadata": {
    "colab": {
      "provenance": [],
      "authorship_tag": "ABX9TyOTTUvszjs+t3VOqSHDz0Xu",
      "include_colab_link": true
    },
    "kernelspec": {
      "name": "python3",
      "display_name": "Python 3"
    },
    "language_info": {
      "name": "python"
    }
  },
  "cells": [
    {
      "cell_type": "markdown",
      "metadata": {
        "id": "view-in-github",
        "colab_type": "text"
      },
      "source": [
        "<a href=\"https://colab.research.google.com/github/Elwing-Chou/tibame_20250729/blob/main/tibame_20250814.ipynb\" target=\"_parent\"><img src=\"https://colab.research.google.com/assets/colab-badge.svg\" alt=\"Open In Colab\"/></a>"
      ]
    },
    {
      "cell_type": "code",
      "execution_count": null,
      "metadata": {
        "id": "W_K_cwWyOWDF"
      },
      "outputs": [],
      "source": [
        "import random\n",
        "\n",
        "\n",
        "score_to_win = 5\n",
        "win_a, win_b = 0, 0\n",
        "while True:\n",
        "    # 0: player A win\n",
        "    # 1: player B win\n",
        "    result = random.randint(0, 1)\n",
        "    if result == 0:\n",
        "        win_a = win_a + 1\n",
        "    elif result == 1:\n",
        "        win_b = win_b + 1\n",
        "\n",
        "    print(win_a, win_b)\n",
        "    if (win_a >= score_to_win) or (win_b >= score_to_win):\n",
        "        # 5:3\n",
        "        if abs(win_a-win_b) >= 2:\n",
        "            print(\"有人贏了\")\n",
        "            break\n",
        "        # 5:4\n",
        "        else:\n",
        "            print(\"Deuce, 繼續\")\n",
        "    else:\n",
        "        print(\"沒人到分數線, 繼續\")\n",
        "\n",
        "if win_a > win_b:\n",
        "    print(\"A win\")\n",
        "else:\n",
        "    print(\"B win\")"
      ]
    },
    {
      "cell_type": "code",
      "source": [
        "# 4:3 還要繼續\n",
        "# 5:3 a win\n",
        "# 5:4 deuce\n",
        "# 5:5 deuce\n",
        "# 7:6 deuce\n",
        "# 7:5 a win\n",
        "score_to_win = 5\n",
        "win_a, win_b = 5, 7\n",
        "if (win_a >= score_to_win) or (win_b >= score_to_win):\n",
        "    # 5:3\n",
        "    if abs(win_a-win_b) >= 2:\n",
        "        print(\"有人贏了\")\n",
        "        # break\n",
        "    # 5:4\n",
        "    else:\n",
        "        print(\"Deuce, 繼續\")\n",
        "else:\n",
        "    print(\"沒人到分數線, 繼續\")"
      ],
      "metadata": {
        "colab": {
          "base_uri": "https://localhost:8080/"
        },
        "id": "ISOEtznFUpzC",
        "outputId": "ef978295-2e57-42d9-8838-0134f4e4ce19"
      },
      "execution_count": 6,
      "outputs": [
        {
          "output_type": "stream",
          "name": "stdout",
          "text": [
            "有人贏了\n"
          ]
        }
      ]
    }
  ]
}