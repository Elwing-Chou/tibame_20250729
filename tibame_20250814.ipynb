{
  "nbformat": 4,
  "nbformat_minor": 0,
  "metadata": {
    "colab": {
      "provenance": [],
      "authorship_tag": "ABX9TyMbUR0XkKEBIiY66qH8XGpK",
      "include_colab_link": true
    },
    "kernelspec": {
      "name": "python3",
      "display_name": "Python 3"
    },
    "language_info": {
      "name": "python"
    }
  },
  "cells": [
    {
      "cell_type": "markdown",
      "metadata": {
        "id": "view-in-github",
        "colab_type": "text"
      },
      "source": [
        "<a href=\"https://colab.research.google.com/github/Elwing-Chou/tibame_20250729/blob/main/tibame_20250814.ipynb\" target=\"_parent\"><img src=\"https://colab.research.google.com/assets/colab-badge.svg\" alt=\"Open In Colab\"/></a>"
      ]
    },
    {
      "cell_type": "code",
      "execution_count": null,
      "metadata": {
        "id": "W_K_cwWyOWDF"
      },
      "outputs": [],
      "source": [
        "import random\n",
        "\n",
        "\n",
        "score_to_win = 5\n",
        "win_a, win_b = 0, 0\n",
        "while True:\n",
        "    # 0: player A win\n",
        "    # 1: player B win\n",
        "    result = random.randint(0, 1)\n",
        "    if result == 0:\n",
        "        win_a = win_a + 1\n",
        "    elif result == 1:\n",
        "        win_b = win_b + 1\n",
        "\n",
        "    print(win_a, win_b)\n",
        "    if (win_a >= score_to_win) or (win_b >= score_to_win):\n",
        "        # 5:3\n",
        "        if abs(win_a-win_b) >= 2:\n",
        "            print(\"有人贏了\")\n",
        "            break\n",
        "        # 5:4\n",
        "        else:\n",
        "            print(\"Deuce, 繼續\")\n",
        "    else:\n",
        "        print(\"沒人到分數線, 繼續\")\n",
        "\n",
        "if win_a > win_b:\n",
        "    print(\"A win\")\n",
        "else:\n",
        "    print(\"B win\")"
      ]
    },
    {
      "cell_type": "code",
      "source": [
        "# 4:3 還要繼續\n",
        "# 5:3 a win\n",
        "# 5:4 deuce\n",
        "# 5:5 deuce\n",
        "# 7:6 deuce\n",
        "# 7:5 a win\n",
        "score_to_win = 5\n",
        "win_a, win_b = 5, 7\n",
        "if (win_a >= score_to_win) or (win_b >= score_to_win):\n",
        "    # 5:3\n",
        "    if abs(win_a-win_b) >= 2:\n",
        "        print(\"有人贏了\")\n",
        "        # break\n",
        "    # 5:4\n",
        "    else:\n",
        "        print(\"Deuce, 繼續\")\n",
        "else:\n",
        "    print(\"沒人到分數線, 繼續\")"
      ],
      "metadata": {
        "colab": {
          "base_uri": "https://localhost:8080/"
        },
        "id": "ISOEtznFUpzC",
        "outputId": "ef978295-2e57-42d9-8838-0134f4e4ce19"
      },
      "execution_count": 6,
      "outputs": [
        {
          "output_type": "stream",
          "name": "stdout",
          "text": [
            "有人贏了\n"
          ]
        }
      ]
    },
    {
      "cell_type": "markdown",
      "source": [
        "\n",
        "\n",
        "```\n",
        "完全平方日: 這個日期如果表示成一個數字, 是可以被開根號的(另外一個整數的平方)\n",
        "\n",
        "最終目標: 給你一個開始點, 你要往後告訴我10個完全平方日\n",
        "\n",
        "判斷平方日的方法\n",
        "想法a: 數日期20241001->開根號 確認是否為一個整數, 是的話完全平方日\n",
        "\n",
        "想法b: 數整數4499->平方 確認是否為一個合理的日期, 是的話完全平方日\n",
        "\n",
        "下一個完全平方日\n",
        "a: 20720704: 至少多數1萬個\n",
        "b: 4552: 103個(O)\n",
        "\n",
        "B想法: 判斷是否是一個合理的日期\n",
        "\n",
        "```\n",
        "\n"
      ],
      "metadata": {
        "id": "AUtTBR81YGF9"
      }
    },
    {
      "cell_type": "code",
      "source": [
        "# 定義函式(功能): 參數/回傳值\n",
        "# 參數: 先準備名稱\n",
        "def add(a, b):\n",
        "    c = a + b\n",
        "    return c\n",
        "add(3, 5)"
      ],
      "metadata": {
        "colab": {
          "base_uri": "https://localhost:8080/"
        },
        "id": "hUh_ORMSkaFp",
        "outputId": "aa534c78-1dbf-4f03-8292-8665caa3c1cc"
      },
      "execution_count": 22,
      "outputs": [
        {
          "output_type": "execute_result",
          "data": {
            "text/plain": [
              "8"
            ]
          },
          "metadata": {},
          "execution_count": 22
        }
      ]
    },
    {
      "cell_type": "code",
      "source": [
        "def is_leap_year(year):\n",
        "    if year % 400 == 0:\n",
        "        return True\n",
        "    elif year % 100 == 0:\n",
        "        return False\n",
        "    elif year % 4 == 0:\n",
        "        return True\n",
        "    else:\n",
        "        return False\n",
        "is_leap_year(2024)"
      ],
      "metadata": {
        "colab": {
          "base_uri": "https://localhost:8080/"
        },
        "id": "Zv_qG9ZilcYA",
        "outputId": "6def68d6-3d33-4f5d-9ca7-593ff428aea6"
      },
      "execution_count": 25,
      "outputs": [
        {
          "output_type": "execute_result",
          "data": {
            "text/plain": [
              "True"
            ]
          },
          "metadata": {},
          "execution_count": 25
        }
      ]
    },
    {
      "cell_type": "code",
      "source": [
        "def is_date_valid(n):\n",
        "    day = n % 100\n",
        "    remain = n // 100\n",
        "    month = remain % 100\n",
        "    year = remain // 100\n",
        "    # print(year, month, day)\n",
        "\n",
        "\n",
        "    # 確認年月日是否合理\n",
        "    # 年: > 0\n",
        "    # 月: 12 >=  >= 1\n",
        "    # 日: 大月小月 2/29\n",
        "    days_per_month = [31, 28, 31, 30, 31, 30, 31, 31, 30, 31, 30, 31]\n",
        "    if year > 0:\n",
        "        if 1 <= month <= 12:\n",
        "            days_max = days_per_month[month-1]\n",
        "            # 處理閏年\n",
        "            if month == 2 and is_leap_year(year):\n",
        "                days_max = 29\n",
        "            if 1 <= day <= days_max:\n",
        "                # print(\"Valid!!!!!\")\n",
        "                return True\n",
        "            else:\n",
        "                # print(\"day invalid\")\n",
        "                return False\n",
        "        else:\n",
        "            # print(\"month invalid\")\n",
        "            return False\n",
        "    else:\n",
        "        # print(\"year invalid\")\n",
        "        return False\n",
        "\n",
        "is_date_valid(20240229)"
      ],
      "metadata": {
        "colab": {
          "base_uri": "https://localhost:8080/"
        },
        "id": "RdrsgJsmoUX5",
        "outputId": "6e7ee339-dbc7-4b95-f881-6836dc65b7c8"
      },
      "execution_count": 26,
      "outputs": [
        {
          "output_type": "execute_result",
          "data": {
            "text/plain": [
              "True"
            ]
          },
          "metadata": {},
          "execution_count": 26
        }
      ]
    },
    {
      "cell_type": "code",
      "source": [
        "start = 4499\n",
        "# 每找到一個就+1, 總共十個\n",
        "count = 0\n",
        "while True:\n",
        "    start_squared = start ** 2\n",
        "    if is_date_valid(start_squared):\n",
        "        # +1, 並且印出 4499 式完全平方日 日期式 20241001"
      ],
      "metadata": {
        "id": "hQDvo-77oxfg"
      },
      "execution_count": null,
      "outputs": []
    },
    {
      "cell_type": "code",
      "source": [
        "# 月份天數都是兩位數\n",
        "n = 20240229\n",
        "day = n % 100\n",
        "remain = n // 100\n",
        "month = remain % 100\n",
        "year = remain // 100\n",
        "# print(year, month, day)\n",
        "\n",
        "\n",
        "# 確認年月日是否合理\n",
        "# 年: > 0\n",
        "# 月: 12 >=  >= 1\n",
        "# 日: 大月小月 2/29\n",
        "days_per_month = [31, 28, 31, 30, 31, 30, 31, 31, 30, 31, 30, 31]\n",
        "if year > 0:\n",
        "    if 1 <= month <= 12:\n",
        "        days_max = days_per_month[month-1]\n",
        "        # 處理閏年\n",
        "        if month == 2 and is_leap_year(year):\n",
        "            days_max = 29\n",
        "        if 1 <= day <= days_max:\n",
        "            print(\"Valid!!!!!\")\n",
        "        else:\n",
        "            print(\"day invalid\")\n",
        "    else:\n",
        "        print(\"month invalid\")\n",
        "else:\n",
        "    print(\"year invalid\")"
      ],
      "metadata": {
        "colab": {
          "base_uri": "https://localhost:8080/"
        },
        "id": "q3Vo8HMUblNS",
        "outputId": "89cc986e-5491-49bf-b6b8-163616b4100d"
      },
      "execution_count": 24,
      "outputs": [
        {
          "output_type": "stream",
          "name": "stdout",
          "text": [
            "Valid!!!!!\n"
          ]
        }
      ]
    }
  ]
}