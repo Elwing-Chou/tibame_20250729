{
  "nbformat": 4,
  "nbformat_minor": 0,
  "metadata": {
    "colab": {
      "provenance": [],
      "authorship_tag": "ABX9TyOsQC8XFcogogencDYdIigW",
      "include_colab_link": true
    },
    "kernelspec": {
      "name": "python3",
      "display_name": "Python 3"
    },
    "language_info": {
      "name": "python"
    }
  },
  "cells": [
    {
      "cell_type": "markdown",
      "metadata": {
        "id": "view-in-github",
        "colab_type": "text"
      },
      "source": [
        "<a href=\"https://colab.research.google.com/github/Elwing-Chou/tibame_20250729/blob/main/tibame_20250814.ipynb\" target=\"_parent\"><img src=\"https://colab.research.google.com/assets/colab-badge.svg\" alt=\"Open In Colab\"/></a>"
      ]
    },
    {
      "cell_type": "code",
      "execution_count": null,
      "metadata": {
        "id": "W_K_cwWyOWDF"
      },
      "outputs": [],
      "source": [
        "import random\n",
        "\n",
        "\n",
        "score_to_win = 5\n",
        "win_a, win_b = 0, 0\n",
        "while True:\n",
        "    # 0: player A win\n",
        "    # 1: player B win\n",
        "    result = random.randint(0, 1)\n",
        "    if result == 0:\n",
        "        win_a = win_a + 1\n",
        "    elif result == 1:\n",
        "        win_b = win_b + 1\n",
        "\n",
        "    print(win_a, win_b)\n",
        "    if (win_a >= score_to_win) or (win_b >= score_to_win):\n",
        "        # 5:3\n",
        "        if abs(win_a-win_b) >= 2:\n",
        "            print(\"有人贏了\")\n",
        "            break\n",
        "        # 5:4\n",
        "        else:\n",
        "            print(\"Deuce, 繼續\")\n",
        "    else:\n",
        "        print(\"沒人到分數線, 繼續\")\n",
        "\n",
        "if win_a > win_b:\n",
        "    print(\"A win\")\n",
        "else:\n",
        "    print(\"B win\")"
      ]
    },
    {
      "cell_type": "code",
      "source": [
        "# 4:3 還要繼續\n",
        "# 5:3 a win\n",
        "# 5:4 deuce\n",
        "# 5:5 deuce\n",
        "# 7:6 deuce\n",
        "# 7:5 a win\n",
        "score_to_win = 5\n",
        "win_a, win_b = 5, 7\n",
        "if (win_a >= score_to_win) or (win_b >= score_to_win):\n",
        "    # 5:3\n",
        "    if abs(win_a-win_b) >= 2:\n",
        "        print(\"有人贏了\")\n",
        "        # break\n",
        "    # 5:4\n",
        "    else:\n",
        "        print(\"Deuce, 繼續\")\n",
        "else:\n",
        "    print(\"沒人到分數線, 繼續\")"
      ],
      "metadata": {
        "colab": {
          "base_uri": "https://localhost:8080/"
        },
        "id": "ISOEtznFUpzC",
        "outputId": "ef978295-2e57-42d9-8838-0134f4e4ce19"
      },
      "execution_count": null,
      "outputs": [
        {
          "output_type": "stream",
          "name": "stdout",
          "text": [
            "有人贏了\n"
          ]
        }
      ]
    },
    {
      "cell_type": "markdown",
      "source": [
        "\n",
        "\n",
        "```\n",
        "完全平方日: 這個日期如果表示成一個數字, 是可以被開根號的(另外一個整數的平方)\n",
        "\n",
        "最終目標: 給你一個開始點, 你要往後告訴我10個完全平方日\n",
        "\n",
        "判斷平方日的方法\n",
        "想法a: 數日期20241001->開根號 確認是否為一個整數, 是的話完全平方日\n",
        "\n",
        "想法b: 數整數4499->平方 確認是否為一個合理的日期, 是的話完全平方日\n",
        "\n",
        "下一個完全平方日\n",
        "a: 20720704: 至少多數1萬個\n",
        "b: 4552: 103個(O)\n",
        "\n",
        "B想法: 判斷是否是一個合理的日期\n",
        "\n",
        "```\n",
        "\n"
      ],
      "metadata": {
        "id": "AUtTBR81YGF9"
      }
    },
    {
      "cell_type": "code",
      "source": [
        "# 定義函式(功能): 參數/回傳值\n",
        "# 參數: 先準備名稱\n",
        "def add(a, b):\n",
        "    c = a + b\n",
        "    return c\n",
        "add(3, 5)"
      ],
      "metadata": {
        "colab": {
          "base_uri": "https://localhost:8080/"
        },
        "id": "hUh_ORMSkaFp",
        "outputId": "aa534c78-1dbf-4f03-8292-8665caa3c1cc"
      },
      "execution_count": null,
      "outputs": [
        {
          "output_type": "execute_result",
          "data": {
            "text/plain": [
              "8"
            ]
          },
          "metadata": {},
          "execution_count": 22
        }
      ]
    },
    {
      "cell_type": "code",
      "source": [
        "def is_leap_year(year):\n",
        "    if year % 400 == 0:\n",
        "        return True\n",
        "    elif year % 100 == 0:\n",
        "        return False\n",
        "    elif year % 4 == 0:\n",
        "        return True\n",
        "    else:\n",
        "        return False\n",
        "is_leap_year(2024)"
      ],
      "metadata": {
        "colab": {
          "base_uri": "https://localhost:8080/"
        },
        "id": "Zv_qG9ZilcYA",
        "outputId": "6def68d6-3d33-4f5d-9ca7-593ff428aea6"
      },
      "execution_count": null,
      "outputs": [
        {
          "output_type": "execute_result",
          "data": {
            "text/plain": [
              "True"
            ]
          },
          "metadata": {},
          "execution_count": 25
        }
      ]
    },
    {
      "cell_type": "code",
      "source": [
        "def is_date_valid(n):\n",
        "    day = n % 100\n",
        "    remain = n // 100\n",
        "    month = remain % 100\n",
        "    year = remain // 100\n",
        "    # print(year, month, day)\n",
        "\n",
        "\n",
        "    # 確認年月日是否合理\n",
        "    # 年: > 0\n",
        "    # 月: 12 >=  >= 1\n",
        "    # 日: 大月小月 2/29\n",
        "    days_per_month = [31, 28, 31, 30, 31, 30, 31, 31, 30, 31, 30, 31]\n",
        "    if year > 0:\n",
        "        if 1 <= month <= 12:\n",
        "            days_max = days_per_month[month-1]\n",
        "            # 處理閏年\n",
        "            if month == 2 and is_leap_year(year):\n",
        "                days_max = 29\n",
        "            if 1 <= day <= days_max:\n",
        "                # print(\"Valid!!!!!\")\n",
        "                return True\n",
        "            else:\n",
        "                # print(\"day invalid\")\n",
        "                return False\n",
        "        else:\n",
        "            # print(\"month invalid\")\n",
        "            return False\n",
        "    else:\n",
        "        # print(\"year invalid\")\n",
        "        return False\n",
        "\n",
        "is_date_valid(20240229)"
      ],
      "metadata": {
        "colab": {
          "base_uri": "https://localhost:8080/"
        },
        "id": "RdrsgJsmoUX5",
        "outputId": "6e7ee339-dbc7-4b95-f881-6836dc65b7c8"
      },
      "execution_count": null,
      "outputs": [
        {
          "output_type": "execute_result",
          "data": {
            "text/plain": [
              "True"
            ]
          },
          "metadata": {},
          "execution_count": 26
        }
      ]
    },
    {
      "cell_type": "code",
      "source": [
        "start = 4499\n",
        "# 每找到一個就+1, 總共十個\n",
        "count = 0\n",
        "while True:\n",
        "    start_squared = start ** 2\n",
        "    if is_date_valid(start_squared):\n",
        "        # +1, 並且印出 4499 式完全平方日 日期式 20241001\n",
        "        print(start, \"valid:\", start_squared)\n",
        "        count = count + 1\n",
        "        if count == 10:\n",
        "            break\n",
        "    start = start + 1"
      ],
      "metadata": {
        "colab": {
          "base_uri": "https://localhost:8080/"
        },
        "id": "hQDvo-77oxfg",
        "outputId": "b2c0245d-da6d-4483-ca30-efc95e989c81"
      },
      "execution_count": null,
      "outputs": [
        {
          "output_type": "stream",
          "name": "stdout",
          "text": [
            "4499 valid: 20241001\n",
            "4552 valid: 20720704\n",
            "4575 valid: 20930625\n",
            "4599 valid: 21150801\n",
            "4625 valid: 21390625\n",
            "4639 valid: 21520321\n",
            "4652 valid: 21641104\n",
            "4653 valid: 21650409\n",
            "4668 valid: 21790224\n",
            "4682 valid: 21921124\n"
          ]
        }
      ]
    },
    {
      "cell_type": "code",
      "source": [
        "# 月份天數都是兩位數\n",
        "n = 20240229\n",
        "day = n % 100\n",
        "remain = n // 100\n",
        "month = remain % 100\n",
        "year = remain // 100\n",
        "# print(year, month, day)\n",
        "\n",
        "\n",
        "# 確認年月日是否合理\n",
        "# 年: > 0\n",
        "# 月: 12 >=  >= 1\n",
        "# 日: 大月小月 2/29\n",
        "days_per_month = [31, 28, 31, 30, 31, 30, 31, 31, 30, 31, 30, 31]\n",
        "if year > 0:\n",
        "    if 1 <= month <= 12:\n",
        "        days_max = days_per_month[month-1]\n",
        "        # 處理閏年\n",
        "        if month == 2 and is_leap_year(year):\n",
        "            days_max = 29\n",
        "        if 1 <= day <= days_max:\n",
        "            print(\"Valid!!!!!\")\n",
        "        else:\n",
        "            print(\"day invalid\")\n",
        "    else:\n",
        "        print(\"month invalid\")\n",
        "else:\n",
        "    print(\"year invalid\")"
      ],
      "metadata": {
        "colab": {
          "base_uri": "https://localhost:8080/"
        },
        "id": "q3Vo8HMUblNS",
        "outputId": "89cc986e-5491-49bf-b6b8-163616b4100d"
      },
      "execution_count": null,
      "outputs": [
        {
          "output_type": "stream",
          "name": "stdout",
          "text": [
            "Valid!!!!!\n"
          ]
        }
      ]
    },
    {
      "cell_type": "code",
      "source": [
        "import time\n",
        "def isleapyear(year):\n",
        "    if year % 4 == 0:\n",
        "        if year % 100 == 0:\n",
        "            if year % 400 == 0:\n",
        "                return True\n",
        "            else:\n",
        "                return False\n",
        "        else:\n",
        "            return True\n",
        "    else:\n",
        "        return False\n",
        "\n",
        "def isleapyear2(year):\n",
        "    if year % 400 == 0:\n",
        "        return True\n",
        "    elif year % 100 == 0:\n",
        "        return False\n",
        "    elif year % 4 == 0:\n",
        "        return True\n",
        "    else:\n",
        "        return False\n",
        "\n",
        "t1 = time.time()\n",
        "# 理論來說只比了一次\n",
        "for i in range(1000000):\n",
        "    isleapyear(5)\n",
        "t2 = time.time()\n",
        "print(t2-t1)\n",
        "\n",
        "# 理論來說比了四次\n",
        "t1 = time.time()\n",
        "# 理論來說只比了一次\n",
        "for i in range(1000000):\n",
        "    isleapyear2(5)\n",
        "t2 = time.time()\n",
        "print(t2-t1)"
      ],
      "metadata": {
        "colab": {
          "base_uri": "https://localhost:8080/"
        },
        "id": "0Ab7TH_z-g8W",
        "outputId": "225ae794-1409-4f49-90f4-fd5a7f807066"
      },
      "execution_count": 24,
      "outputs": [
        {
          "output_type": "stream",
          "name": "stdout",
          "text": [
            "0.12406444549560547\n",
            "0.17315220832824707\n"
          ]
        }
      ]
    },
    {
      "cell_type": "code",
      "source": [
        "# def checksquare(n_rooted):\n",
        "import datetime\n",
        "import time\n",
        "\n",
        "count_want = 300\n",
        "d = datetime.datetime(2024, 10, 1)\n",
        "\n",
        "t1 = time.time()\n",
        "count = 0\n",
        "while True:\n",
        "    n = int(d.strftime(\"%Y%m%d\"))\n",
        "    n_rooted = n ** 0.5\n",
        "    if n_rooted == int(n_rooted):\n",
        "        # print(d)\n",
        "        count = count + 1\n",
        "    delta = datetime.timedelta(days=1)\n",
        "    d = d + delta\n",
        "    if count == count_want:\n",
        "        break\n",
        "t2 = time.time()\n",
        "print(\"第一種:\", t2-t1)\n",
        "\n",
        "\n",
        "t1 = time.time()\n",
        "n = 4499\n",
        "count = 0\n",
        "while True:\n",
        "    n_squared = n ** 2\n",
        "    day = n_squared % 100\n",
        "    remain = n_squared // 100\n",
        "    month = remain % 100\n",
        "    year = remain // 100\n",
        "    try:\n",
        "        d = datetime.datetime(year, month, day)\n",
        "        # print(d)\n",
        "        count = count + 1\n",
        "        if count == count_want:\n",
        "            break\n",
        "    except ValueError:\n",
        "        pass\n",
        "    n = n + 1\n",
        "t2 = time.time()\n",
        "print(\"第二種:\", t2-t1)"
      ],
      "metadata": {
        "colab": {
          "base_uri": "https://localhost:8080/"
        },
        "id": "N1nqTT4WBL1s",
        "outputId": "27e7af48-43ad-43ba-c10d-d6ddece1e051"
      },
      "execution_count": 48,
      "outputs": [
        {
          "output_type": "stream",
          "name": "stdout",
          "text": [
            "2024-10-01 00:00:00\n",
            "2072-07-04 00:00:00\n",
            "2093-06-25 00:00:00\n",
            "2115-08-01 00:00:00\n",
            "2139-06-25 00:00:00\n",
            "2152-03-21 00:00:00\n",
            "2164-11-04 00:00:00\n",
            "2165-04-09 00:00:00\n",
            "2179-02-24 00:00:00\n",
            "2192-11-24 00:00:00\n",
            "2207-12-04 00:00:00\n",
            "2208-06-01 00:00:00\n",
            "2223-12-25 00:00:00\n",
            "2242-02-25 00:00:00\n",
            "2259-10-09 00:00:00\n",
            "2260-05-16 00:00:00\n",
            "2280-06-25 00:00:00\n",
            "2301-12-09 00:00:00\n",
            "2302-08-04 00:00:00\n",
            "2303-04-01 00:00:00\n",
            "2328-06-25 00:00:00\n",
            "2357-10-25 00:00:00\n",
            "2396-10-25 00:00:00\n",
            "2397-08-16 00:00:00\n",
            "2398-06-09 00:00:00\n",
            "2399-04-04 00:00:00\n",
            "2400-02-01 00:00:00\n",
            "2465-12-25 00:00:00\n",
            "2468-10-24 00:00:00\n",
            "2473-07-29 00:00:00\n",
            "2475-06-25 00:00:00\n",
            "2477-05-29 00:00:00\n",
            "2482-03-24 00:00:00\n",
            "2485-02-25 00:00:00\n",
            "2489-01-21 00:00:00\n",
            "2511-01-21 00:00:00\n",
            "2515-02-25 00:00:00\n",
            "2518-03-24 00:00:00\n",
            "2523-05-29 00:00:00\n",
            "2525-06-25 00:00:00\n",
            "2527-07-29 00:00:00\n",
            "2532-10-24 00:00:00\n",
            "2535-12-25 00:00:00\n",
            "2602-02-01 00:00:00\n",
            "2603-04-04 00:00:00\n",
            "2604-06-09 00:00:00\n",
            "2605-08-16 00:00:00\n",
            "2606-10-25 00:00:00\n",
            "2647-10-25 00:00:00\n",
            "2678-06-25 00:00:00\n",
            "2705-04-01 00:00:00\n",
            "2706-08-04 00:00:00\n",
            "2707-12-09 00:00:00\n",
            "2730-06-25 00:00:00\n",
            "2752-05-16 00:00:00\n",
            "2753-10-09 00:00:00\n",
            "2772-02-25 00:00:00\n",
            "2793-12-25 00:00:00\n",
            "2810-06-01 00:00:00\n",
            "2811-12-04 00:00:00\n",
            "2828-11-24 00:00:00\n",
            "2843-02-24 00:00:00\n",
            "2859-04-09 00:00:00\n",
            "2860-11-04 00:00:00\n",
            "2874-03-21 00:00:00\n",
            "2889-06-25 00:00:00\n",
            "2917-08-01 00:00:00\n",
            "2943-06-25 00:00:00\n",
            "2968-07-04 00:00:00\n",
            "3026-10-01 00:00:00\n",
            "3037-11-21 00:00:00\n",
            "3068-05-21 00:00:00\n",
            "3078-03-04 00:00:00\n",
            "3108-06-25 00:00:00\n",
            "3137-12-01 00:00:00\n",
            "3164-06-25 00:00:00\n",
            "3191-12-01 00:00:00\n",
            "3266-12-25 00:00:00\n",
            "3289-02-25 00:00:00\n",
            "3305-10-01 00:00:00\n",
            "3335-06-25 00:00:00\n",
            "3393-06-25 00:00:00\n",
            "3421-08-01 00:00:00\n",
            "3428-10-25 00:00:00\n",
            "3468-03-21 00:00:00\n",
            "3475-10-25 00:00:00\n",
            "3539-06-01 00:00:00\n",
            "3545-01-16 00:00:00\n",
            "3558-12-25 00:00:00\n",
            "3570-06-25 00:00:00\n",
            "3582-02-25 00:00:00\n",
            "3618-02-25 00:00:00\n",
            "3630-06-25 00:00:00\n",
            "3642-12-25 00:00:00\n",
            "3659-04-01 00:00:00\n",
            "3665-09-16 00:00:00\n",
            "3682-06-24 00:00:00\n",
            "3699-07-24 00:00:00\n",
            "3716-12-16 00:00:00\n",
            "3727-10-25 00:00:00\n",
            "3749-11-29 00:00:00\n",
            "3754-01-29 00:00:00\n",
            "3776-10-25 00:00:00\n",
            "3781-02-01 00:00:00\n",
            "3813-06-25 00:00:00\n",
            "3839-04-16 00:00:00\n",
            "3875-06-25 00:00:00\n",
            "3920-01-21 00:00:00\n",
            "3925-02-25 00:00:00\n",
            "3935-05-29 00:00:00\n",
            "3940-07-29 00:00:00\n",
            "3950-12-25 00:00:00\n",
            "3974-04-16 00:00:00\n",
            "3998-03-29 00:00:00\n",
            "4003-09-29 00:00:00\n",
            "4036-06-09 00:00:00\n",
            "4064-06-25 00:00:00\n",
            "4101-12-16 00:00:00\n",
            "4110-09-21 00:00:00\n",
            "4119-07-24 00:00:00\n",
            "4128-06-25 00:00:00\n",
            "4137-06-24 00:00:00\n",
            "4146-07-21 00:00:00\n",
            "4155-09-16 00:00:00\n",
            "4164-12-09 00:00:00\n",
            "4221-10-09 00:00:00\n",
            "4285-01-16 00:00:00\n",
            "4323-06-25 00:00:00\n",
            "4352-04-09 00:00:00\n",
            "4389-06-25 00:00:00\n",
            "4493-02-09 00:00:00\n",
            "4509-12-25 00:00:00\n",
            "4536-02-25 00:00:00\n",
            "4571-11-21 00:00:00\n",
            "4590-06-25 00:00:00\n",
            "4609-05-21 00:00:00\n",
            "4628-08-09 00:00:00\n",
            "4658-06-25 00:00:00\n",
            "4699-10-25 00:00:00\n",
            "4754-10-25 00:00:00\n",
            "4826-08-09 00:00:00\n",
            "4833-03-04 00:00:00\n",
            "4851-12-25 00:00:00\n",
            "4865-06-25 00:00:00\n",
            "4879-02-25 00:00:00\n",
            "4921-02-25 00:00:00\n",
            "4935-06-25 00:00:00\n",
            "4949-12-25 00:00:00\n",
            "4966-02-09 00:00:00\n",
            "4973-07-04 00:00:00\n",
            "5048-10-25 00:00:00\n",
            "5105-10-25 00:00:00\n",
            "5115-11-04 00:00:00\n",
            "5138-02-24 00:00:00\n",
            "5148-06-25 00:00:00\n",
            "5158-11-24 00:00:00\n",
            "5181-12-04 00:00:00\n",
            "5220-06-25 00:00:00\n",
            "5262-05-16 00:00:00\n",
            "5278-02-25 00:00:00\n",
            "5307-12-25 00:00:00\n",
            "5326-08-04 00:00:00\n",
            "5345-07-21 00:00:00\n",
            "5386-09-21 00:00:00\n",
            "5436-11-29 00:00:00\n",
            "5439-06-25 00:00:00\n",
            "5442-01-29 00:00:00\n",
            "5470-08-16 00:00:00\n",
            "5473-04-04 00:00:00\n",
            "5510-09-29 00:00:00\n",
            "5513-06-25 00:00:00\n",
            "5516-03-29 00:00:00\n",
            "5577-10-24 00:00:00\n",
            "5598-03-24 00:00:00\n",
            "5652-03-24 00:00:00\n",
            "5673-10-24 00:00:00\n",
            "5735-03-29 00:00:00\n",
            "5738-06-25 00:00:00\n",
            "5741-09-29 00:00:00\n",
            "5779-04-04 00:00:00\n",
            "5782-08-16 00:00:00\n",
            "5811-01-29 00:00:00\n",
            "5814-06-25 00:00:00\n",
            "5817-11-29 00:00:00\n",
            "5869-09-21 00:00:00\n",
            "5912-07-21 00:00:00\n",
            "5932-08-04 00:00:00\n",
            "5952-12-25 00:00:00\n",
            "5983-02-25 00:00:00\n",
            "6000-05-16 00:00:00\n",
            "6045-06-25 00:00:00\n",
            "6087-12-04 00:00:00\n",
            "6112-11-24 00:00:00\n",
            "6123-06-25 00:00:00\n",
            "6134-02-24 00:00:00\n",
            "6159-11-04 00:00:00\n",
            "6170-10-25 00:00:00\n",
            "6233-10-25 00:00:00\n",
            "6317-07-04 00:00:00\n",
            "6325-02-09 00:00:00\n",
            "6344-12-25 00:00:00\n",
            "6360-06-25 00:00:00\n",
            "6376-02-25 00:00:00\n",
            "6424-02-25 00:00:00\n",
            "6440-06-25 00:00:00\n",
            "6456-12-25 00:00:00\n",
            "6477-03-04 00:00:00\n",
            "6485-08-09 00:00:00\n",
            "6569-10-25 00:00:00\n",
            "6634-10-25 00:00:00\n",
            "6683-06-25 00:00:00\n",
            "6719-08-09 00:00:00\n",
            "6742-05-21 00:00:00\n",
            "6765-06-25 00:00:00\n",
            "6788-11-21 00:00:00\n",
            "6831-02-25 00:00:00\n",
            "6864-12-25 00:00:00\n",
            "6884-02-09 00:00:00\n",
            "7014-06-25 00:00:00\n",
            "7061-04-09 00:00:00\n",
            "7098-06-25 00:00:00\n",
            "7147-01-16 00:00:00\n",
            "7230-10-09 00:00:00\n",
            "7305-12-09 00:00:00\n",
            "7317-09-16 00:00:00\n",
            "7329-07-21 00:00:00\n",
            "7341-06-24 00:00:00\n",
            "7353-06-25 00:00:00\n",
            "7365-07-24 00:00:00\n",
            "7377-09-21 00:00:00\n",
            "7389-12-16 00:00:00\n",
            "7439-06-25 00:00:00\n",
            "7477-06-09 00:00:00\n",
            "7522-09-29 00:00:00\n",
            "7529-03-29 00:00:00\n",
            "7562-04-16 00:00:00\n",
            "7595-12-25 00:00:00\n",
            "7609-07-29 00:00:00\n",
            "7616-05-29 00:00:00\n",
            "7630-02-25 00:00:00\n",
            "7637-01-21 00:00:00\n",
            "7700-06-25 00:00:00\n",
            "7751-04-16 00:00:00\n",
            "7788-06-25 00:00:00\n",
            "7834-02-01 00:00:00\n",
            "7841-10-25 00:00:00\n",
            "7873-01-29 00:00:00\n",
            "7880-11-29 00:00:00\n",
            "7912-10-25 00:00:00\n",
            "7928-12-16 00:00:00\n",
            "7953-07-24 00:00:00\n",
            "7978-06-24 00:00:00\n",
            "8003-09-16 00:00:00\n",
            "8012-04-01 00:00:00\n",
            "8037-12-25 00:00:00\n",
            "8055-06-25 00:00:00\n",
            "8073-02-25 00:00:00\n",
            "8127-02-25 00:00:00\n",
            "8145-06-25 00:00:00\n",
            "8163-12-25 00:00:00\n",
            "8183-01-16 00:00:00\n",
            "8192-06-01 00:00:00\n",
            "8290-10-25 00:00:00\n",
            "8301-03-21 00:00:00\n",
            "8363-10-25 00:00:00\n",
            "8374-08-01 00:00:00\n",
            "8418-06-25 00:00:00\n",
            "8510-06-25 00:00:00\n",
            "8558-10-01 00:00:00\n",
            "8584-02-25 00:00:00\n",
            "8621-12-25 00:00:00\n",
            "8744-12-01 00:00:00\n",
            "8789-06-25 00:00:00\n",
            "8834-12-01 00:00:00\n",
            "8883-06-25 00:00:00\n",
            "8934-03-04 00:00:00\n",
            "8951-05-21 00:00:00\n",
            "9004-11-21 00:00:00\n",
            "9023-10-01 00:00:00\n",
            "9124-07-04 00:00:00\n",
            "9168-06-25 00:00:00\n",
            "9214-08-01 00:00:00\n",
            "9264-06-25 00:00:00\n",
            "9291-03-21 00:00:00\n",
            "9316-11-04 00:00:00\n",
            "9318-04-09 00:00:00\n",
            "9347-02-24 00:00:00\n",
            "9374-11-24 00:00:00\n",
            "9405-12-04 00:00:00\n",
            "9407-06-01 00:00:00\n",
            "9438-12-25 00:00:00\n",
            "9477-02-25 00:00:00\n",
            "9512-10-09 00:00:00\n",
            "9514-05-16 00:00:00\n",
            "9555-06-25 00:00:00\n",
            "9598-12-09 00:00:00\n",
            "9600-08-04 00:00:00\n",
            "9602-04-01 00:00:00\n",
            "9653-06-25 00:00:00\n",
            "9712-10-25 00:00:00\n",
            "第二種: 0.01734137535095215\n"
          ]
        }
      ]
    },
    {
      "cell_type": "code",
      "source": [
        "d = datetime.datetime(2000, 1, 1)\n",
        "d.strftime(\"%Y/%m/%d\")"
      ],
      "metadata": {
        "colab": {
          "base_uri": "https://localhost:8080/",
          "height": 35
        },
        "id": "acy3feDPCy7P",
        "outputId": "67d4c170-fc62-4fd0-8793-51cca75dbcd3"
      },
      "execution_count": 30,
      "outputs": [
        {
          "output_type": "execute_result",
          "data": {
            "text/plain": [
              "'2000/01/01'"
            ],
            "application/vnd.google.colaboratory.intrinsic+json": {
              "type": "string"
            }
          },
          "metadata": {},
          "execution_count": 30
        }
      ]
    },
    {
      "cell_type": "code",
      "source": [
        "datetime.datetime(2001, 2, 29)"
      ],
      "metadata": {
        "colab": {
          "base_uri": "https://localhost:8080/",
          "height": 141
        },
        "id": "GbDcsBdDE9Wo",
        "outputId": "9fe3b02c-6f28-4929-8f4c-9f2c9cec98b2"
      },
      "execution_count": 37,
      "outputs": [
        {
          "output_type": "error",
          "ename": "ValueError",
          "evalue": "day is out of range for month",
          "traceback": [
            "\u001b[0;31m---------------------------------------------------------------------------\u001b[0m",
            "\u001b[0;31mValueError\u001b[0m                                Traceback (most recent call last)",
            "\u001b[0;32m/tmp/ipython-input-4277830772.py\u001b[0m in \u001b[0;36m<cell line: 0>\u001b[0;34m()\u001b[0m\n\u001b[0;32m----> 1\u001b[0;31m \u001b[0mdatetime\u001b[0m\u001b[0;34m.\u001b[0m\u001b[0mdatetime\u001b[0m\u001b[0;34m(\u001b[0m\u001b[0;36m2001\u001b[0m\u001b[0;34m,\u001b[0m \u001b[0;36m2\u001b[0m\u001b[0;34m,\u001b[0m \u001b[0;36m29\u001b[0m\u001b[0;34m)\u001b[0m\u001b[0;34m\u001b[0m\u001b[0;34m\u001b[0m\u001b[0m\n\u001b[0m",
            "\u001b[0;31mValueError\u001b[0m: day is out of range for month"
          ]
        }
      ]
    },
    {
      "cell_type": "code",
      "source": [
        "import time\n",
        "time.time()"
      ],
      "metadata": {
        "colab": {
          "base_uri": "https://localhost:8080/"
        },
        "id": "IoEGl5la_uwS",
        "outputId": "7c516664-f808-4964-b0c3-5864eb9a2ded"
      },
      "execution_count": 2,
      "outputs": [
        {
          "output_type": "execute_result",
          "data": {
            "text/plain": [
              "1755601385.9176238"
            ]
          },
          "metadata": {},
          "execution_count": 2
        }
      ]
    }
  ]
}