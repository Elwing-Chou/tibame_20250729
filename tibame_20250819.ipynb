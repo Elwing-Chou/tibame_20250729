{
  "nbformat": 4,
  "nbformat_minor": 0,
  "metadata": {
    "colab": {
      "provenance": [],
      "authorship_tag": "ABX9TyOaJfeC0wnKd1+vimuXWWQv",
      "include_colab_link": true
    },
    "kernelspec": {
      "name": "python3",
      "display_name": "Python 3"
    },
    "language_info": {
      "name": "python"
    }
  },
  "cells": [
    {
      "cell_type": "markdown",
      "metadata": {
        "id": "view-in-github",
        "colab_type": "text"
      },
      "source": [
        "<a href=\"https://colab.research.google.com/github/Elwing-Chou/tibame_20250729/blob/main/tibame_20250819.ipynb\" target=\"_parent\"><img src=\"https://colab.research.google.com/assets/colab-badge.svg\" alt=\"Open In Colab\"/></a>"
      ]
    },
    {
      "cell_type": "markdown",
      "source": [
        "WIN: -headers \"Origin: https://ani.gamer.com.tw\" -i \"\" anime.mp4\n",
        "\n",
        "MAC: -headers 'Origin: https://ani.gamer.com.tw' -i '' anime.mp4\n",
        "\n",
        "ffmpeg(用拉的) 複製並且把-i後面的\"\"填入m3u8"
      ],
      "metadata": {
        "id": "NiLDOQ2kOtGB"
      }
    },
    {
      "cell_type": "markdown",
      "source": [
        "\n",
        "\n",
        "```\n",
        "只要是下指令都是\n",
        "\n",
        "執行檔 參數\n",
        "\n",
        "1. 短參數: -用途 xxxx\n",
        "2. 長參數: --用途 xxxx\n",
        "3. 位置參數: xxxx\n",
        "```\n",
        "\n"
      ],
      "metadata": {
        "id": "wWiKuh2RP8Dv"
      }
    },
    {
      "cell_type": "markdown",
      "source": [
        "\n",
        "\n",
        "```\n",
        "編碼: 我->0100101..\n",
        "解碼: 0100101..->我\n",
        "\n",
        "以前: 繁體(BIG-5) 簡體(GBK) ...\n",
        "\n",
        "亂碼: 編碼=/=解碼\n",
        "\n",
        "現在: 萬國碼(Unicode): utf-8\n",
        "\n",
        "為什麼你要指定萬國碼? 作業系統有預設編碼\n",
        "Unix(MAC, linux): utf-8\n",
        "Win: ANSI(BiG5/GBK....)\n",
        "```\n",
        "\n"
      ],
      "metadata": {
        "id": "WF9cAQa8W_mk"
      }
    },
    {
      "cell_type": "code",
      "execution_count": 4,
      "metadata": {
        "id": "zkvKILDNOqhP"
      },
      "outputs": [],
      "source": [
        "f = open(\"a.txt\", \"w\", encoding=\"utf-8\")\n",
        "# 寫入功能: write(f, \"hello\")\n",
        "# 專屬(型態)功能: f.write(\"hello\")\n",
        "f.write(\"hello\\n\")\n",
        "f.write(\"good morning\")\n",
        "# 關閉檔案就會存檔\n",
        "# 以前: close(f)\n",
        "f.close()\n",
        "# 打不出來的字: 換行(\\n) TAB(\\t)"
      ]
    },
    {
      "cell_type": "code",
      "source": [
        "f = open(\"a.txt\", \"r\", encoding=\"utf-8\")\n",
        "# content = read(f)\n",
        "content = f.read()\n",
        "print(content)\n",
        "f.close()"
      ],
      "metadata": {
        "colab": {
          "base_uri": "https://localhost:8080/"
        },
        "id": "ea1TN-zhbXmY",
        "outputId": "c32b04b6-427e-40a4-bca5-563ed20d2c26"
      },
      "execution_count": 5,
      "outputs": [
        {
          "output_type": "stream",
          "name": "stdout",
          "text": [
            "hello\n",
            "good morning\n"
          ]
        }
      ]
    }
  ]
}