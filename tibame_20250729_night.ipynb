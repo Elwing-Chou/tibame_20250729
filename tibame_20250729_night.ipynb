{
  "nbformat": 4,
  "nbformat_minor": 0,
  "metadata": {
    "colab": {
      "provenance": [],
      "authorship_tag": "ABX9TyPeiMbNCBzj5yG/mPKe40ai",
      "include_colab_link": true
    },
    "kernelspec": {
      "name": "python3",
      "display_name": "Python 3"
    },
    "language_info": {
      "name": "python"
    }
  },
  "cells": [
    {
      "cell_type": "markdown",
      "metadata": {
        "id": "view-in-github",
        "colab_type": "text"
      },
      "source": [
        "<a href=\"https://colab.research.google.com/github/Elwing-Chou/tibame_20250729/blob/main/tibame_20250729_night.ipynb\" target=\"_parent\"><img src=\"https://colab.research.google.com/assets/colab-badge.svg\" alt=\"Open In Colab\"/></a>"
      ]
    },
    {
      "cell_type": "markdown",
      "source": [
        "\n",
        "```\n",
        "環境\n",
        "1. 本地環境: 翻譯器(python 3.x)\n",
        "             輔助工具(IDE)(Pycharm*/VSCode)\n",
        "   Anaconda(X)\n",
        "\n",
        "2. 線上環境: repl.it/colab\n",
        "\n",
        "標準python: 從第一行執行到最後一行的檔案(.py)\n",
        "colab: python的額外工具(jupyter notebook) 寫一段執行一段(.ipynb)\n",
        "支援額外的文字語法: markdown語法 寫一段說明文字\n",
        "\n",
        "```\n",
        "\n"
      ],
      "metadata": {
        "id": "HgkbHYDF7czt"
      }
    },
    {
      "cell_type": "markdown",
      "source": [
        "\n",
        "\n",
        "```\n",
        "BMI程式\n",
        "1. 使用者可以輸入他自己的身高體重\n",
        "2. 根據輸入的身高體重計算bmi\n",
        "3. 根據bmi給出建議\n",
        "\n",
        "\n",
        "1. 什麼叫好的程式? 可讀性!!!!\n",
        "   影響可讀性: 語法/排版/註解\n",
        "\n",
        "2. 排版: https://peps.python.org/pep-0008/\n",
        "\n",
        "3. 功能: print(20) 20: 參數\n",
        "   * 不需要參數的功能: 功能名字()\n",
        "   * 只要是一個功能, 你就一定要加入小括號\n",
        "\n",
        "4. 註解: 這行並不是一句程式, 而是我們寫給使用者/自己的說明\n",
        "   # 說明\n",
        "\n",
        "5. 至高守則1. 不要重複寫\n",
        "\n",
        "6. =: 取代/是   名稱 = 值\n",
        "   a. 5 == 3 + 2 是否相等?\n",
        "   b. x = 2 取代/是\n",
        "\n",
        "```\n",
        "\n"
      ],
      "metadata": {
        "id": "R8zFOhqbBUwq"
      }
    },
    {
      "cell_type": "code",
      "execution_count": 7,
      "metadata": {
        "id": "OLv-09ZL5XRW",
        "colab": {
          "base_uri": "https://localhost:8080/"
        },
        "outputId": "a22c4ad4-3839-42eb-9e09-d3f53ea7052e"
      },
      "outputs": [
        {
          "output_type": "stream",
          "name": "stdout",
          "text": [
            "77\n",
            "175\n",
            "25.142857142857142\n"
          ]
        }
      ],
      "source": [
        "# bmi = weight(kg) / height(m) ^ 2\n",
        "weight = 77\n",
        "height = 175\n",
        "print(weight)\n",
        "print(height)\n",
        "print(weight / (height / 100) ** 2)"
      ]
    },
    {
      "cell_type": "code",
      "source": [],
      "metadata": {
        "id": "BwflRgQD7XUl"
      },
      "execution_count": null,
      "outputs": []
    }
  ]
}