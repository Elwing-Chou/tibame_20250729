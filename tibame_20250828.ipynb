{
  "nbformat": 4,
  "nbformat_minor": 0,
  "metadata": {
    "colab": {
      "provenance": [],
      "authorship_tag": "ABX9TyMPXwJa5/KosVmhAVr5uyP1",
      "include_colab_link": true
    },
    "kernelspec": {
      "name": "python3",
      "display_name": "Python 3"
    },
    "language_info": {
      "name": "python"
    }
  },
  "cells": [
    {
      "cell_type": "markdown",
      "metadata": {
        "id": "view-in-github",
        "colab_type": "text"
      },
      "source": [
        "<a href=\"https://colab.research.google.com/github/Elwing-Chou/tibame_20250729/blob/main/tibame_20250828.ipynb\" target=\"_parent\"><img src=\"https://colab.research.google.com/assets/colab-badge.svg\" alt=\"Open In Colab\"/></a>"
      ]
    },
    {
      "cell_type": "markdown",
      "source": [
        "\n",
        "\n",
        "```\n",
        "資料長成這樣:\n",
        "[一比, 一比, 一比]\n",
        "一比: {}\n",
        "\n",
        "專屬功能(python xxx method):\n",
        "1. 字串的專屬功能\n",
        "\n",
        "```\n",
        "\n"
      ],
      "metadata": {
        "id": "i6HbbArUTmg9"
      }
    },
    {
      "cell_type": "code",
      "execution_count": 9,
      "metadata": {
        "colab": {
          "base_uri": "https://localhost:8080/"
        },
        "id": "_T5PKdUgTedi",
        "outputId": "f4a014a7-04fb-47fc-acdd-5f058e60a915"
      },
      "outputs": [
        {
          "output_type": "stream",
          "name": "stdout",
          "text": [
            "hellohellohellohellohello\n",
            "88888\n",
            "99hellohellohello\n",
            "abc\n",
            "['2025', '08', '28']\n",
            "2025-08-28\n"
          ]
        }
      ],
      "source": [
        "s = \"hello\" * 5\n",
        "b = s.replace(\"hello\", \"8\")\n",
        "print(s)\n",
        "print(b)\n",
        "\n",
        "s = s.replace(\"hello\", \"9\", 2)\n",
        "print(s)\n",
        "\n",
        "s = \"   abc   \"\n",
        "s = s.strip()\n",
        "print(s)\n",
        "\n",
        "s = \"2025/08/28\"\n",
        "s_spl = s.split(\"/\")\n",
        "print(s_spl)\n",
        "\n",
        "s2 = \"-\".join(s_spl)\n",
        "print(s2)"
      ]
    },
    {
      "cell_type": "code",
      "source": [
        "\"\""
      ],
      "metadata": {
        "id": "kXo_0u3DVGnP"
      },
      "execution_count": null,
      "outputs": []
    }
  ]
}