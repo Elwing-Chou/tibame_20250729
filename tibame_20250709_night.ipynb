{
  "nbformat": 4,
  "nbformat_minor": 0,
  "metadata": {
    "colab": {
      "provenance": [],
      "authorship_tag": "ABX9TyO82KfHUfcpHw4BpNFc7zuW",
      "include_colab_link": true
    },
    "kernelspec": {
      "name": "python3",
      "display_name": "Python 3"
    },
    "language_info": {
      "name": "python"
    }
  },
  "cells": [
    {
      "cell_type": "markdown",
      "metadata": {
        "id": "view-in-github",
        "colab_type": "text"
      },
      "source": [
        "<a href=\"https://colab.research.google.com/github/Elwing-Chou/tibame_20250729/blob/main/tibame_20250709_night.ipynb\" target=\"_parent\"><img src=\"https://colab.research.google.com/assets/colab-badge.svg\" alt=\"Open In Colab\"/></a>"
      ]
    },
    {
      "cell_type": "markdown",
      "source": [
        "\n",
        "```\n",
        "環境\n",
        "1. 本地環境: 翻譯器(python 3.x)\n",
        "             輔助工具(IDE)(Pycharm*/VSCode)\n",
        "   Anaconda(X)\n",
        "\n",
        "2. 線上環境: repl.it/colab\n",
        "\n",
        "標準python: 從第一行執行到最後一行的檔案(.py)\n",
        "colab: python的額外工具(jupyter notebook) 寫一段執行一段(.ipynb)\n",
        "支援額外的文字語法: markdown語法 寫一段說明文字\n",
        "\n",
        "```\n",
        "\n"
      ],
      "metadata": {
        "id": "HgkbHYDF7czt"
      }
    },
    {
      "cell_type": "code",
      "execution_count": null,
      "metadata": {
        "id": "OLv-09ZL5XRW"
      },
      "outputs": [],
      "source": []
    },
    {
      "cell_type": "code",
      "source": [],
      "metadata": {
        "id": "BwflRgQD7XUl"
      },
      "execution_count": null,
      "outputs": []
    }
  ]
}