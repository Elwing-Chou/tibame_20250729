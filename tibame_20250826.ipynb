{
  "nbformat": 4,
  "nbformat_minor": 0,
  "metadata": {
    "colab": {
      "provenance": [],
      "authorship_tag": "ABX9TyMbHChh0Yb2u/0z5wcUFstL",
      "include_colab_link": true
    },
    "kernelspec": {
      "name": "python3",
      "display_name": "Python 3"
    },
    "language_info": {
      "name": "python"
    }
  },
  "cells": [
    {
      "cell_type": "markdown",
      "metadata": {
        "id": "view-in-github",
        "colab_type": "text"
      },
      "source": [
        "<a href=\"https://colab.research.google.com/github/Elwing-Chou/tibame_20250729/blob/main/tibame_20250826.ipynb\" target=\"_parent\"><img src=\"https://colab.research.google.com/assets/colab-badge.svg\" alt=\"Open In Colab\"/></a>"
      ]
    },
    {
      "cell_type": "markdown",
      "source": [
        "\n",
        "\n",
        "```\n",
        "找到網址\n",
        "1. 打開原始碼(網址列的答案)\n",
        "2. 有(網址列) 沒有(f12隱藏網址)\n",
        "\n",
        "```\n",
        "\n"
      ],
      "metadata": {
        "id": "g6mbYc2iB1AC"
      }
    },
    {
      "cell_type": "markdown",
      "source": [
        "\n",
        "\n",
        "```\n",
        "HTML格式\n",
        "一個一個長方形區塊構成\n",
        "\n",
        "<a href=\"網址\">\n",
        "    顯示內容\n",
        "</a>\n",
        "\n",
        "1. 名字: 決定是什麼東西\n",
        "a: 超連結 img: 圖片 video: 影片\n",
        "\n",
        "2. 屬性: 決定細節\n",
        "a href=\"網址\"\n",
        "img/video src=\"網址\"\n",
        "\n",
        "3. 內容:\n",
        "\n",
        "```\n",
        "\n"
      ],
      "metadata": {
        "id": "osr-gR2GEqaA"
      }
    },
    {
      "cell_type": "markdown",
      "source": [
        "\n",
        "\n",
        "```\n",
        "1. 前端: 秀給你看的東西\n",
        "a. HTML: 內容(o)\n",
        "b. CSS: html內容的排版(o)\n",
        "c. JavaScript: 網頁的互動(x)\n",
        "\n",
        "2. 後端: 幫你處理你的網址\n",
        "a. 接收他\n",
        "b. 用程式來處理這網址(Flask/Django/FastAPI)\n",
        "c. 丟回結果(HTML/影片/圖片)\n",
        "\n",
        "\n",
        "CSS: 找到區塊, 加上排版\n",
        "1. HTML名字:\n",
        "a{\n",
        "    background-color:red\n",
        "}\n",
        "\n",
        "前置動作 特殊屬性 class=\"分類1 分類2 分類3\"\n",
        "2. class屬性\n",
        ".class名稱{\n",
        "    規則\n",
        "}\n",
        "\n",
        "前置動作 特殊屬性 id=\"值\"\n",
        "3. id屬性\n",
        "#id名稱{\n",
        "}\n",
        "\n",
        "```\n",
        "\n"
      ],
      "metadata": {
        "id": "w6XDXzC_IwTx"
      }
    },
    {
      "cell_type": "code",
      "source": [
        "!pip install beautifulsoup4"
      ],
      "metadata": {
        "id": "jLSbH4buSe5W"
      },
      "execution_count": null,
      "outputs": []
    },
    {
      "cell_type": "code",
      "execution_count": 6,
      "metadata": {
        "colab": {
          "base_uri": "https://localhost:8080/"
        },
        "id": "Iq2AqSrsBxc4",
        "outputId": "67ceac6b-9b1e-4e8a-d35e-40e401d97326"
      },
      "outputs": [
        {
          "output_type": "stream",
          "name": "stdout",
          "text": [
            "https://tabelog.com/tw/tokyo/A1304/A130401/13184186/\n",
            "Bon.nu\n"
          ]
        }
      ],
      "source": [
        "import urllib.request as req\n",
        "import bs4 as bs\n",
        "\n",
        "url = \"https://tabelog.com/tw/tokyo/rstLst/sweets/?SrtT=rt\"\n",
        "f = req.urlopen(url)\n",
        "content = f.read()\n",
        "# 型態轉換:\n",
        "# 上次json.loads\n",
        "# 這次bs.BeautifulSoup\n",
        "html = bs.BeautifulSoup(content)\n",
        "# 定位區塊\n",
        "# find: 找到第一個符合條件的\n",
        "# find_all: 找到所有符合條件的\n",
        "# 專屬功能: 區塊.find\n",
        "target = html.find(\"a\", {\"class\":\"list-rst__rst-name-target\"})\n",
        "# 區塊以後萃取你要的\n",
        "# 特殊屬性(href/src): 區塊[屬性名]\n",
        "# HTML內容: 區塊.get_text()\n",
        "print(target[\"href\"])\n",
        "print(target.get_text())"
      ]
    },
    {
      "cell_type": "code",
      "source": [
        "import urllib.request as req\n",
        "import bs4 as bs\n",
        "\n",
        "url = \"https://tabelog.com/tw/tokyo/rstLst/sweets/?SrtT=rt\"\n",
        "f = req.urlopen(url)\n",
        "content = f.read()\n",
        "html = bs.BeautifulSoup(content)\n",
        "\n",
        "# find_all -> [區塊, 區塊, 區塊]\n",
        "rs = html.find_all(\"div\", {\"class\":\"list-rst__body\"})\n",
        "for r in rs:\n",
        "    en = r.find(\"a\", {\"class\":\"list-rst__rst-name-target\"})\n",
        "    area_genre = r.find(\"div\", {\"class\":\"list-rst__area-genre\"})\n",
        "    rating = r.find(\"span\", {\"class\":\"c-rating__val\"})\n",
        "    prices = r.find_all(\"span\", {\"class\":\"c-rating-v3__val\"})\n",
        "    dinner_price = prices[0]\n",
        "    lunch_price = prices[1]\n",
        "\n",
        "    en_href = en[\"href\"]\n",
        "    en_text = en.get_text().strip()\n",
        "    area_genre_text = area_genre.get_text().strip()\n",
        "    rating_text = rating.get_text().strip()\n",
        "    dinner_price_text = dinner_price.get_text().strip()\n",
        "    lunch_price_text = lunch_price.get_text().strip()\n",
        "\n",
        "    # 地點類型/分數/晚間價格/午間價格\n",
        "    print(en_href)\n",
        "    print(en_text)\n",
        "    print(area_genre_text)\n",
        "    print(rating_text)\n",
        "    print(dinner_price_text)\n",
        "    print(lunch_price_text)\n",
        "    print(\"-\" * 30)"
      ],
      "metadata": {
        "colab": {
          "base_uri": "https://localhost:8080/"
        },
        "id": "in2KHyJEXZ2w",
        "outputId": "d87501ca-ab3a-444f-e3d9-1bc393df10e2"
      },
      "execution_count": 20,
      "outputs": [
        {
          "output_type": "stream",
          "name": "stdout",
          "text": [
            "https://tabelog.com/tw/tokyo/A1304/A130401/13184186/\n",
            "Bon.nu\n",
            "參宮橋車站 / 法式料理, 蛋糕\n",
            "4.27\n",
            "JPY 50,000 - JPY 59,999\n",
            "JPY 50,000 - JPY 59,999\n",
            "------------------------------\n",
            "https://tabelog.com/tw/tokyo/A1305/A130502/13005641/\n",
            "AIGRE DOUCE\n",
            "目白車站 / 蛋糕, 馬卡龍\n",
            "3.99\n",
            "JPY 1,000 - JPY 1,999\n",
            "JPY 1,000 - JPY 1,999\n",
            "------------------------------\n",
            "https://tabelog.com/tw/tokyo/A1320/A132001/13005853/\n",
            "a tes souhaits!\n",
            "西荻窪車站 / 蛋糕, 甜點\n",
            "3.98\n",
            "- JPY 999\n",
            "- JPY 999\n",
            "------------------------------\n",
            "https://tabelog.com/tw/tokyo/A1317/A131715/13242556/\n",
            "L'Atelier à Ma Façon\n",
            "上野毛車站 / 甜點, 咖啡店\n",
            "3.97\n",
            "JPY 4,000 - JPY 4,999\n",
            "JPY 4,000 - JPY 4,999\n",
            "------------------------------\n",
            "https://tabelog.com/tw/tokyo/A1317/A131701/13141364/\n",
            "GELATERIA ACQUOLINA\n",
            "祐天寺車站 / 意式冰淇淋/冰淇淋, 霜淇淋\n",
            "3.96\n",
            "-\n",
            "- JPY 999\n",
            "------------------------------\n",
            "https://tabelog.com/tw/tokyo/A1316/A131603/13137010/\n",
            "Patisserie Ryoko\n",
            "高輪台車站 / 蛋糕, 泡芙, 西式甜點\n",
            "3.96\n",
            "-\n",
            "- JPY 999\n",
            "------------------------------\n",
            "https://tabelog.com/tw/tokyo/A1317/A131703/13005198/\n",
            "patisserie Paris S'eveille\n",
            "自由丘車站 / 蛋糕, 咖啡店, 麵包\n",
            "3.95\n",
            "JPY 1,000 - JPY 1,999\n",
            "JPY 1,000 - JPY 1,999\n",
            "------------------------------\n",
            "https://tabelog.com/tw/tokyo/A1301/A130101/13116839/\n",
            "Frederic Cassel Ginza Mitsukoshi Ten\n",
            "銀座車站 / 蛋糕, 甜點, 巧克力\n",
            "3.95\n",
            "-\n",
            "JPY 2,000 - JPY 2,999\n",
            "------------------------------\n",
            "https://tabelog.com/tw/tokyo/A1323/A132302/13005076/\n",
            "Ikkou An\n",
            "茗荷谷車站 / 日式點心\n",
            "3.95\n",
            "-\n",
            "- JPY 999\n",
            "------------------------------\n",
            "https://tabelog.com/tw/tokyo/A1310/A131004/13186450/\n",
            "Avranches Guesnay\n",
            "春日車站 / 蛋糕, 巧克力\n",
            "3.94\n",
            "JPY 1,000 - JPY 1,999\n",
            "JPY 1,000 - JPY 1,999\n",
            "------------------------------\n",
            "https://tabelog.com/tw/tokyo/A1317/A131707/13188208/\n",
            "Ryoura\n",
            "用賀車站 / 蛋糕, 西式甜點\n",
            "3.94\n",
            "JPY 3,000 - JPY 3,999\n",
            "-\n",
            "------------------------------\n",
            "https://tabelog.com/tw/tokyo/A1317/A131715/13181654/\n",
            "Au Bon Vieux Temps Oyamadai Ten\n",
            "尾山台車站 / 蛋糕, 小菜, 咖啡店\n",
            "3.93\n",
            "JPY 1,000 - JPY 1,999\n",
            "JPY 1,000 - JPY 1,999\n",
            "------------------------------\n",
            "https://tabelog.com/tw/tokyo/A1302/A130202/13011481/\n",
            "Nihonbashi Nagato\n",
            "日本橋車站 / 日式點心\n",
            "3.92\n",
            "JPY 1,000 - JPY 1,999\n",
            "JPY 1,000 - JPY 1,999\n",
            "------------------------------\n",
            "https://tabelog.com/tw/tokyo/A1317/A131709/13098861/\n",
            "Boulangerie Sudo\n",
            "松陰神社前車站 / 麵包, 咖啡店, 甜點\n",
            "3.92\n",
            "- JPY 999\n",
            "- JPY 999\n",
            "------------------------------\n",
            "https://tabelog.com/tw/tokyo/A1303/A130302/13274859/\n",
            "LESS by Gabriele Riva & Kanako Sakakura\n",
            "惠比壽車站 / 蛋糕, 巧克力\n",
            "3.92\n",
            "-\n",
            "JPY 2,000 - JPY 2,999\n",
            "------------------------------\n",
            "https://tabelog.com/tw/tokyo/A1318/A131809/13155662/\n",
            "Patisserie Yu Sasage\n",
            "千歲烏山車站 / 蛋糕, 麵包\n",
            "3.91\n",
            "-\n",
            "- JPY 999\n",
            "------------------------------\n",
            "https://tabelog.com/tw/tokyo/A1309/A130905/13035194/\n",
            "patisserie K.ViNCENT\n",
            "飯田橋車站 / 蛋糕, 巧克力, 西式甜點\n",
            "3.91\n",
            "JPY 10,000 - JPY 14,999\n",
            "-\n",
            "------------------------------\n",
            "https://tabelog.com/tw/tokyo/A1302/A130201/13038473/\n",
            "CHOCOLATIER PALET D’OR Tokyo\n",
            "二重橋前車站 / 巧克力, 咖啡店, 蛋糕\n",
            "3.90\n",
            "JPY 2,000 - JPY 2,999\n",
            "JPY 2,000 - JPY 2,999\n",
            "------------------------------\n",
            "https://tabelog.com/tw/tokyo/A1318/A131811/13140735/\n",
            "ASTERISQUE\n",
            "代代木上原車站 / 蛋糕\n",
            "3.90\n",
            "- JPY 999\n",
            "- JPY 999\n",
            "------------------------------\n",
            "https://tabelog.com/tw/tokyo/A1309/A130901/13238644/\n",
            "Okashiya Ucchi\n",
            "北參道車站 / 蛋糕, 西式甜點\n",
            "3.90\n",
            "-\n",
            "JPY 5,000 - JPY 5,999\n",
            "------------------------------\n"
          ]
        }
      ]
    },
    {
      "cell_type": "code",
      "source": [
        "s = \"       \\n    \\t    abc   def       \\n  \\t\"\n",
        "s2 = s.strip()\n",
        "print(s)\n",
        "print(s2)"
      ],
      "metadata": {
        "colab": {
          "base_uri": "https://localhost:8080/"
        },
        "id": "sy97eC8BiJtW",
        "outputId": "7c525c34-bd9b-454d-cc56-73b1a6081744"
      },
      "execution_count": 14,
      "outputs": [
        {
          "output_type": "stream",
          "name": "stdout",
          "text": [
            "       \n",
            "    \t    abc   def       \n",
            "  \t\n",
            "abc   def\n"
          ]
        }
      ]
    }
  ]
}