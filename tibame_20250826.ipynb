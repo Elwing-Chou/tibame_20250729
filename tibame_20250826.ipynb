{
  "nbformat": 4,
  "nbformat_minor": 0,
  "metadata": {
    "colab": {
      "provenance": [],
      "authorship_tag": "ABX9TyPYTfCqHaLIBrszxb9mqLKS",
      "include_colab_link": true
    },
    "kernelspec": {
      "name": "python3",
      "display_name": "Python 3"
    },
    "language_info": {
      "name": "python"
    }
  },
  "cells": [
    {
      "cell_type": "markdown",
      "metadata": {
        "id": "view-in-github",
        "colab_type": "text"
      },
      "source": [
        "<a href=\"https://colab.research.google.com/github/Elwing-Chou/tibame_20250729/blob/main/tibame_20250826.ipynb\" target=\"_parent\"><img src=\"https://colab.research.google.com/assets/colab-badge.svg\" alt=\"Open In Colab\"/></a>"
      ]
    },
    {
      "cell_type": "markdown",
      "source": [
        "\n",
        "\n",
        "```\n",
        "找到網址\n",
        "1. 打開原始碼(網址列的答案)\n",
        "2. 有(網址列) 沒有(f12隱藏網址)\n",
        "\n",
        "```\n",
        "\n"
      ],
      "metadata": {
        "id": "g6mbYc2iB1AC"
      }
    },
    {
      "cell_type": "markdown",
      "source": [
        "\n",
        "\n",
        "```\n",
        "HTML格式\n",
        "一個一個長方形區塊構成\n",
        "\n",
        "<a href=\"網址\">\n",
        "    顯示內容\n",
        "</a>\n",
        "\n",
        "1. 名字: 決定是什麼東西\n",
        "a: 超連結 img: 圖片 video: 影片\n",
        "\n",
        "2. 屬性: 決定細節\n",
        "a href=\"網址\"\n",
        "img/video src=\"網址\"\n",
        "\n",
        "3. 內容:\n",
        "\n",
        "```\n",
        "\n"
      ],
      "metadata": {
        "id": "osr-gR2GEqaA"
      }
    },
    {
      "cell_type": "markdown",
      "source": [
        "\n",
        "\n",
        "```\n",
        "1. 前端: 秀給你看的東西\n",
        "a. HTML: 內容(o)\n",
        "b. CSS: html內容的排版(o)\n",
        "c. JavaScript: 網頁的互動(x)\n",
        "\n",
        "2. 後端: 幫你處理你的網址\n",
        "a. 接收他\n",
        "b. 用程式來處理這網址(Flask/Django/FastAPI)\n",
        "c. 丟回結果(HTML/影片/圖片)\n",
        "```\n",
        "\n"
      ],
      "metadata": {
        "id": "w6XDXzC_IwTx"
      }
    },
    {
      "cell_type": "code",
      "execution_count": null,
      "metadata": {
        "id": "Iq2AqSrsBxc4"
      },
      "outputs": [],
      "source": []
    }
  ]
}