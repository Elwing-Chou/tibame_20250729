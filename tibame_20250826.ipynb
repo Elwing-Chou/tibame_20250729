{
  "nbformat": 4,
  "nbformat_minor": 0,
  "metadata": {
    "colab": {
      "provenance": [],
      "authorship_tag": "ABX9TyNT2pm0RXT2xmc1moLZbArr",
      "include_colab_link": true
    },
    "kernelspec": {
      "name": "python3",
      "display_name": "Python 3"
    },
    "language_info": {
      "name": "python"
    }
  },
  "cells": [
    {
      "cell_type": "markdown",
      "metadata": {
        "id": "view-in-github",
        "colab_type": "text"
      },
      "source": [
        "<a href=\"https://colab.research.google.com/github/Elwing-Chou/tibame_20250729/blob/main/tibame_20250826.ipynb\" target=\"_parent\"><img src=\"https://colab.research.google.com/assets/colab-badge.svg\" alt=\"Open In Colab\"/></a>"
      ]
    },
    {
      "cell_type": "markdown",
      "source": [
        "\n",
        "\n",
        "```\n",
        "找到網址\n",
        "1. 打開原始碼(網址列的答案)\n",
        "2. 有(網址列) 沒有(f12隱藏網址)\n",
        "\n",
        "```\n",
        "\n"
      ],
      "metadata": {
        "id": "g6mbYc2iB1AC"
      }
    },
    {
      "cell_type": "markdown",
      "source": [
        "\n",
        "\n",
        "```\n",
        "HTML格式\n",
        "一個一個長方形區塊構成\n",
        "\n",
        "<a href=\"網址\">\n",
        "    顯示內容\n",
        "</a>\n",
        "\n",
        "1. 名字: 決定是什麼東西\n",
        "a: 超連結 img: 圖片 video: 影片\n",
        "\n",
        "2. 屬性: 決定細節\n",
        "a href=\"網址\"\n",
        "img/video src=\"網址\"\n",
        "\n",
        "3. 內容:\n",
        "\n",
        "```\n",
        "\n"
      ],
      "metadata": {
        "id": "osr-gR2GEqaA"
      }
    },
    {
      "cell_type": "markdown",
      "source": [
        "\n",
        "\n",
        "```\n",
        "1. 前端: 秀給你看的東西\n",
        "a. HTML: 內容(o)\n",
        "b. CSS: html內容的排版(o)\n",
        "c. JavaScript: 網頁的互動(x)\n",
        "\n",
        "2. 後端: 幫你處理你的網址\n",
        "a. 接收他\n",
        "b. 用程式來處理這網址(Flask/Django/FastAPI)\n",
        "c. 丟回結果(HTML/影片/圖片)\n",
        "\n",
        "\n",
        "CSS: 找到區塊, 加上排版\n",
        "1. HTML名字:\n",
        "a{\n",
        "    background-color:red\n",
        "}\n",
        "\n",
        "前置動作 特殊屬性 class=\"分類1 分類2 分類3\"\n",
        "2. class屬性\n",
        ".class名稱{\n",
        "    規則\n",
        "}\n",
        "\n",
        "前置動作 特殊屬性 id=\"值\"\n",
        "3. id屬性\n",
        "#id名稱{\n",
        "}\n",
        "\n",
        "```\n",
        "\n"
      ],
      "metadata": {
        "id": "w6XDXzC_IwTx"
      }
    },
    {
      "cell_type": "code",
      "source": [
        "!pip install beautifulsoup4"
      ],
      "metadata": {
        "id": "jLSbH4buSe5W"
      },
      "execution_count": null,
      "outputs": []
    },
    {
      "cell_type": "code",
      "execution_count": 6,
      "metadata": {
        "colab": {
          "base_uri": "https://localhost:8080/"
        },
        "id": "Iq2AqSrsBxc4",
        "outputId": "67ceac6b-9b1e-4e8a-d35e-40e401d97326"
      },
      "outputs": [
        {
          "output_type": "stream",
          "name": "stdout",
          "text": [
            "https://tabelog.com/tw/tokyo/A1304/A130401/13184186/\n",
            "Bon.nu\n"
          ]
        }
      ],
      "source": [
        "import urllib.request as req\n",
        "import bs4 as bs\n",
        "\n",
        "url = \"https://tabelog.com/tw/tokyo/rstLst/sweets/?SrtT=rt\"\n",
        "f = req.urlopen(url)\n",
        "content = f.read()\n",
        "# 型態轉換:\n",
        "# 上次json.loads\n",
        "# 這次bs.BeautifulSoup\n",
        "html = bs.BeautifulSoup(content)\n",
        "# 定位區塊\n",
        "# find: 找到第一個符合條件的\n",
        "# find_all: 找到所有符合條件的\n",
        "# 專屬功能: 區塊.find\n",
        "target = html.find(\"a\", {\"class\":\"list-rst__rst-name-target\"})\n",
        "# 區塊以後萃取你要的\n",
        "# 特殊屬性(href/src): 區塊[屬性名]\n",
        "# HTML內容: 區塊.get_text()\n",
        "print(target[\"href\"])\n",
        "print(target.get_text())"
      ]
    }
  ]
}