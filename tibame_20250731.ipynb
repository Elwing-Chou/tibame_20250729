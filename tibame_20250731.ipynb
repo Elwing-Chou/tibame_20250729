{
  "nbformat": 4,
  "nbformat_minor": 0,
  "metadata": {
    "colab": {
      "provenance": [],
      "authorship_tag": "ABX9TyMJYq2lnQHkXcnUoyNupOmH",
      "include_colab_link": true
    },
    "kernelspec": {
      "name": "python3",
      "display_name": "Python 3"
    },
    "language_info": {
      "name": "python"
    }
  },
  "cells": [
    {
      "cell_type": "markdown",
      "metadata": {
        "id": "view-in-github",
        "colab_type": "text"
      },
      "source": [
        "<a href=\"https://colab.research.google.com/github/Elwing-Chou/tibame_20250729/blob/main/tibame_20250731.ipynb\" target=\"_parent\"><img src=\"https://colab.research.google.com/assets/colab-badge.svg\" alt=\"Open In Colab\"/></a>"
      ]
    },
    {
      "cell_type": "markdown",
      "source": [
        "\n",
        "\n",
        "```\n",
        "剪刀石頭布:\n",
        "1. 開始寫之前: 放下鍵盤滑鼠, 想好再寫\n",
        "\n",
        "核心邏輯: 判定輸贏(先預想擴充性)\n",
        "\n",
        "! 我出剪刀, 對手出石頭: 我輸了(X): 3 x 3\n",
        "! 我選擇的拳是你選擇的相鄰的下一個, 我贏了(o)\n",
        "\n",
        "? 剪刀石頭布該用什麼型態表示:\n",
        "字串: 1. 使用者會打錯  2. 沒辦法表示下一個的關係\n",
        "整數: 只要他有隱含的大小關係 或者 是你在要求使用者輸入(從0開始)\n",
        "\n",
        "1. 你只要使用別的.py定義的東西(python給你的/第三方的/你自己的)\n",
        "import .py名字\n",
        "先照抄一次import後的東西.(的)功能(參數)\n",
        "\n",
        "```\n",
        "\n"
      ],
      "metadata": {
        "id": "IYlMfdX5IcNp"
      }
    },
    {
      "cell_type": "code",
      "execution_count": 9,
      "metadata": {
        "colab": {
          "base_uri": "https://localhost:8080/"
        },
        "id": "_nZFAKmOH09L",
        "outputId": "519f4cd0-79aa-4d64-9b5e-7aabf1b41be0"
      },
      "outputs": [
        {
          "output_type": "stream",
          "name": "stdout",
          "text": [
            "0.剪刀 1.石頭 2.布:0\n",
            "我出的:0\n",
            "電腦的: 2\n"
          ]
        }
      ],
      "source": [
        "import random\n",
        "\n",
        "my = int(input(\"0.剪刀 1.石頭 2.布:\"))\n",
        "com = random.randint(0, 2)\n",
        "print(\"我出的:\" + str(my))\n",
        "print(\"電腦的:\", com)"
      ]
    }
  ]
}