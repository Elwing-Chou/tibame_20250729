{
  "nbformat": 4,
  "nbformat_minor": 0,
  "metadata": {
    "colab": {
      "provenance": [],
      "authorship_tag": "ABX9TyOXPbQIJaXWowrva7i0+iIF",
      "include_colab_link": true
    },
    "kernelspec": {
      "name": "python3",
      "display_name": "Python 3"
    },
    "language_info": {
      "name": "python"
    }
  },
  "cells": [
    {
      "cell_type": "markdown",
      "metadata": {
        "id": "view-in-github",
        "colab_type": "text"
      },
      "source": [
        "<a href=\"https://colab.research.google.com/github/Elwing-Chou/tibame_20250729/blob/main/tibame_20250731.ipynb\" target=\"_parent\"><img src=\"https://colab.research.google.com/assets/colab-badge.svg\" alt=\"Open In Colab\"/></a>"
      ]
    },
    {
      "cell_type": "markdown",
      "source": [
        "\n",
        "\n",
        "```\n",
        "剪刀石頭布:\n",
        "1. 開始寫之前: 放下鍵盤滑鼠, 想好再寫\n",
        "\n",
        "核心邏輯: 判定輸贏(先預想擴充性)\n",
        "\n",
        "! 我出剪刀, 對手出石頭: 我輸了(X): 3 x 3\n",
        "! 我選擇的拳是你選擇的相鄰的下一個, 我贏了(o)\n",
        "\n",
        "? 剪刀石頭布該用什麼型態表示:\n",
        "字串: 1. 使用者會打錯  2. 沒辦法表示下一個的關係\n",
        "整數: 只要他有隱含的大小關係 或者 是你在要求使用者輸入(從0開始)\n",
        "\n",
        "1. 你只要使用別的.py定義的東西(python給你的/第三方的/你自己的)\n",
        "import .py名字\n",
        "先照抄一次import後的東西.(的)功能(參數)\n",
        "* 除了 built-in funcion: https://docs.python.org/zh-tw/3.13/library/functions.html 以外 你都要import\n",
        "\n",
        "\n",
        "2. list型態(清單型態):\n",
        "   trans = [\"剪刀\", \"石頭\", \"布\"]\n",
        "   python在創造這個list的時候, 還會偷偷幫你把每個東西給個編號(key)\n",
        "   key:      0        1      2\n",
        "   只要他有key-value配對的時候, 查詢(key->value):\n",
        "   查東西[key]\n",
        "\n",
        "\n",
        "\n",
        "```\n",
        "\n"
      ],
      "metadata": {
        "id": "IYlMfdX5IcNp"
      }
    },
    {
      "cell_type": "code",
      "execution_count": 21,
      "metadata": {
        "colab": {
          "base_uri": "https://localhost:8080/"
        },
        "id": "_nZFAKmOH09L",
        "outputId": "3be1b093-dcaa-449e-fb2e-a28585da5813"
      },
      "outputs": [
        {
          "output_type": "stream",
          "name": "stdout",
          "text": [
            "0.剪刀 1.石頭 2.布:1\n",
            "我出的: 石頭\n",
            "電腦的: 剪刀\n"
          ]
        }
      ],
      "source": [
        "import random\n",
        "\n",
        "trans = [\"剪刀\", \"石頭\", \"布\"]\n",
        "my = int(input(\"0.剪刀 1.石頭 2.布:\"))\n",
        "com = random.randint(0, 2)\n",
        "print(\"我出的:\", trans[my])\n",
        "print(\"電腦的:\", trans[com])"
      ]
    },
    {
      "cell_type": "code",
      "source": [
        "# 字串key-value查詢\n",
        "s = \"hello\"\n",
        "print(s[0])"
      ],
      "metadata": {
        "colab": {
          "base_uri": "https://localhost:8080/"
        },
        "id": "Fgl0nHiOW4dH",
        "outputId": "afc6adb3-e24b-4df1-d2a4-d8f5df30290c"
      },
      "execution_count": 18,
      "outputs": [
        {
          "output_type": "stream",
          "name": "stdout",
          "text": [
            "h\n"
          ]
        }
      ]
    }
  ]
}